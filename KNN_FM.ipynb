{
  "nbformat": 4,
  "nbformat_minor": 0,
  "metadata": {
    "colab": {
      "name": "KNN fashion 1.ipynb",
      "version": "0.3.2",
      "provenance": []
    },
    "kernelspec": {
      "name": "python3",
      "display_name": "Python 3"
    },
    "accelerator": "TPU"
  },
  "cells": [
    {
      "metadata": {
        "id": "AkNRe_NU2n4S",
        "colab_type": "code",
        "outputId": "3f689d92-3f84-4008-c348-1f2d73af0051",
        "colab": {
          "resources": {
            "http://localhost:8080/nbextensions/google.colab/files.js": {
              "data": "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",
              "ok": true,
              "headers": [
                [
                  "content-type",
                  "application/javascript"
                ]
              ],
              "status": 200,
              "status_text": ""
            }
          },
          "base_uri": "https://localhost:8080/",
          "height": 69
        }
      },
      "cell_type": "code",
      "source": [
        "from google.colab import files\n",
        "import io\n",
        "uploaded = files.upload()"
      ],
      "execution_count": 0,
      "outputs": [
        {
          "output_type": "display_data",
          "data": {
            "text/html": [
              "\n",
              "     <input type=\"file\" id=\"files-d39399b2-7cf7-4d32-98b5-7d5dc906395f\" name=\"files[]\" multiple disabled />\n",
              "     <output id=\"result-d39399b2-7cf7-4d32-98b5-7d5dc906395f\">\n",
              "      Upload widget is only available when the cell has been executed in the\n",
              "      current browser session. Please rerun this cell to enable.\n",
              "      </output>\n",
              "      <script src=\"/nbextensions/google.colab/files.js\"></script> "
            ],
            "text/plain": [
              "<IPython.core.display.HTML object>"
            ]
          },
          "metadata": {
            "tags": []
          }
        },
        {
          "output_type": "stream",
          "text": [
            "Saving fashion_half.csv to fashion_half.csv\n"
          ],
          "name": "stdout"
        }
      ]
    },
    {
      "metadata": {
        "id": "uEmkawNE272t",
        "colab_type": "code",
        "colab": {}
      },
      "cell_type": "code",
      "source": [
        "import pandas as pd\n",
        "df = pd.read_csv(io.BytesIO(uploaded['fashion_half.csv']))"
      ],
      "execution_count": 0,
      "outputs": []
    },
    {
      "metadata": {
        "id": "ctL6vK-PVby9",
        "colab_type": "code",
        "outputId": "297b0647-d504-4a78-95ae-088b7072a638",
        "colab": {
          "base_uri": "https://localhost:8080/",
          "height": 3216
        }
      },
      "cell_type": "code",
      "source": [
        "#changing k's \n",
        "import pandas as pd\n",
        "import matplotlib.pyplot as plt\n",
        "from sklearn.metrics import mean_squared_error\n",
        "from sklearn.model_selection import train_test_split\n",
        "from sklearn.preprocessing import StandardScaler\n",
        "from sklearn.metrics import classification_report,confusion_matrix\n",
        "from sklearn.neighbors import KNeighborsClassifier\n",
        "from sklearn.metrics import balanced_accuracy_score,f1_score, accuracy_score, precision_score, recall_score\n",
        "import time\n",
        "\n",
        "#df = pd.read_csv('fashion-mnist_train.csv', delimiter=',', quotechar='\"')\n",
        "#df=df.sample(frac=0.25, replace=False)\n",
        "features = df.loc[:,\"pixel1\":\"pixel784\"]\n",
        "#X_train, X_test, y_train, y_test = train_test_split(features, df[\"label\"], test_size=0.5)\n",
        "\n",
        "X_train, X_test, y_train, y_test = train_test_split(features,df[\"label\"], test_size=0.25)\n",
        "\n",
        "scaler = StandardScaler()\n",
        "scaler.fit(X_train)\n",
        "X_train = scaler.transform(X_train)\n",
        "X_test = scaler.transform(X_test)\n",
        "\n",
        "\n",
        "\n",
        "#kNN\n",
        "ks = range(1, 21)\n",
        "train_precision = []\n",
        "test_precision = []\n",
        "\n",
        "train_recall = []\n",
        "test_recall = []\n",
        "\n",
        "train_acc = []\n",
        "test_acc =[]\n",
        "\n",
        "portion = range(10,101, 10)\n",
        "print(\"her\")\n",
        "for i, k in enumerate(ks):\n",
        "    start = time.time()\n",
        "    clf = KNeighborsClassifier(n_neighbors = k, metric=\"euclidean\", weights='distance')\n",
        "    \n",
        "    clf.fit(X_train, y_train)\n",
        "    train_pred = clf.predict(X_train)\n",
        "    test_pred = clf.predict(X_test)\n",
        "    end = len(X_train)\n",
        "    print ('k ' + str(k))\n",
        "    train_precision.append(precision_score(y_train, train_pred, average='macro'))\n",
        "    test_precision.append(precision_score(y_test, test_pred, average='macro'))\n",
        "    print(\"train :\", train_precision)\n",
        "    print(\"test :\", test_precision)\n",
        "    \n",
        "    print(confusion_matrix(y_test, test_pred))\n",
        "    print(\"time: \", time.time() - start)\n",
        "    \n",
        "    train_recall.append(recall_score(y_train, train_pred, average='macro'))\n",
        "    test_recall.append(recall_score(y_test, test_pred, average='macro'))\n",
        "    \n",
        "    print(\"train :\", train_recall)\n",
        "    print(\"test :\", test_recall)\n",
        "    train_acc.append(accuracy_score(y_train, train_pred))\n",
        "    test_acc.append(accuracy_score(y_test, test_pred))\n",
        "    \n",
        "    print(\"train :\", train_acc)\n",
        "    print(\"test :\", test_acc)"
      ],
      "execution_count": 0,
      "outputs": [
        {
          "output_type": "stream",
          "text": [
            "/usr/local/lib/python3.6/dist-packages/sklearn/preprocessing/data.py:625: DataConversionWarning: Data with input dtype int64 were all converted to float64 by StandardScaler.\n",
            "  return self.partial_fit(X, y)\n",
            "/usr/local/lib/python3.6/dist-packages/ipykernel_launcher.py:20: DataConversionWarning: Data with input dtype int64 were all converted to float64 by StandardScaler.\n",
            "/usr/local/lib/python3.6/dist-packages/ipykernel_launcher.py:21: DataConversionWarning: Data with input dtype int64 were all converted to float64 by StandardScaler.\n"
          ],
          "name": "stderr"
        },
        {
          "output_type": "stream",
          "text": [
            "her\n",
            "k 1\n",
            "train : [1.0]\n",
            "test : [0.9794735273102322]\n",
            "[[1484   11   16   12    1]\n",
            " [  21 1386    6    3    1]\n",
            " [  22    0 1497    2    0]\n",
            " [  28    0   24 1492   10]\n",
            " [   0    0    0    0 1484]]\n",
            "time:  815.686615228653\n",
            "train : [1.0]\n",
            "test : [0.9792399885754485]\n",
            "train : [1.0]\n",
            "test : [0.9790666666666666]\n",
            "k 2\n",
            "train : [1.0, 1.0]\n",
            "test : [0.9794735273102322, 0.9794735273102322]\n",
            "[[1484   11   16   12    1]\n",
            " [  21 1386    6    3    1]\n",
            " [  22    0 1497    2    0]\n",
            " [  28    0   24 1492   10]\n",
            " [   0    0    0    0 1484]]\n",
            "time:  1174.2032370567322\n",
            "train : [1.0, 1.0]\n",
            "test : [0.9792399885754485, 0.9792399885754485]\n",
            "train : [1.0, 1.0]\n",
            "test : [0.9790666666666666, 0.9790666666666666]\n",
            "k 3\n",
            "train : [1.0, 1.0, 1.0]\n",
            "test : [0.9794735273102322, 0.9794735273102322, 0.9785205975556028]\n",
            "[[1484    5   20   14    1]\n",
            " [  24 1381    8    3    1]\n",
            " [  20    1 1497    3    0]\n",
            " [  29    1   25 1489   10]\n",
            " [   0    0    0    0 1484]]\n",
            "time:  1178.0222570896149\n",
            "train : [1.0, 1.0, 1.0]\n",
            "test : [0.9792399885754485, 0.9792399885754485, 0.9781481718873014]\n",
            "train : [1.0, 1.0, 1.0]\n",
            "test : [0.9790666666666666, 0.9790666666666666, 0.978]\n",
            "k 4\n",
            "train : [1.0, 1.0, 1.0, 1.0]\n",
            "test : [0.9794735273102322, 0.9794735273102322, 0.9785205975556028, 0.9780894057945924]\n",
            "[[1481    7   20   15    1]\n",
            " [  24 1379    9    4    1]\n",
            " [  19    1 1496    5    0]\n",
            " [  23    1   29 1494    7]\n",
            " [   2    0    0    0 1482]]\n",
            "time:  1176.8132190704346\n",
            "train : [1.0, 1.0, 1.0, 1.0]\n",
            "test : [0.9792399885754485, 0.9792399885754485, 0.9781481718873014, 0.9777146510044213]\n",
            "train : [1.0, 1.0, 1.0, 1.0]\n",
            "test : [0.9790666666666666, 0.9790666666666666, 0.978, 0.9776]\n",
            "k 5\n",
            "train : [1.0, 1.0, 1.0, 1.0, 1.0]\n",
            "test : [0.9794735273102322, 0.9794735273102322, 0.9785205975556028, 0.9780894057945924, 0.9778798804939836]\n",
            "[[1483    6   19   15    1]\n",
            " [  26 1376   12    2    1]\n",
            " [  20    1 1496    4    0]\n",
            " [  21    1   30 1494    8]\n",
            " [   3    0    0    0 1481]]\n",
            "time:  1186.9666249752045\n",
            "train : [1.0, 1.0, 1.0, 1.0, 1.0]\n",
            "test : [0.9792399885754485, 0.9792399885754485, 0.9781481718873014, 0.9777146510044213, 0.9774189175253065]\n",
            "train : [1.0, 1.0, 1.0, 1.0, 1.0]\n",
            "test : [0.9790666666666666, 0.9790666666666666, 0.978, 0.9776, 0.9773333333333334]\n",
            "k 6\n",
            "train : [1.0, 1.0, 1.0, 1.0, 1.0, 1.0]\n",
            "test : [0.9794735273102322, 0.9794735273102322, 0.9785205975556028, 0.9780894057945924, 0.9778798804939836, 0.977204843586571]\n",
            "[[1481    6   19   17    1]\n",
            " [  30 1374    9    3    1]\n",
            " [  19    1 1496    5    0]\n",
            " [  20    2   30 1494    8]\n",
            " [   4    0    0    0 1480]]\n",
            "time:  1183.2705776691437\n",
            "train : [1.0, 1.0, 1.0, 1.0, 1.0, 1.0]\n",
            "test : [0.9792399885754485, 0.9792399885754485, 0.9781481718873014, 0.9777146510044213, 0.9774189175253065, 0.976739392923399]\n",
            "train : [1.0, 1.0, 1.0, 1.0, 1.0, 1.0]\n",
            "test : [0.9790666666666666, 0.9790666666666666, 0.978, 0.9776, 0.9773333333333334, 0.9766666666666667]\n",
            "k 7\n",
            "train : [1.0, 1.0, 1.0, 1.0, 1.0, 1.0, 1.0]\n",
            "test : [0.9794735273102322, 0.9794735273102322, 0.9785205975556028, 0.9780894057945924, 0.9778798804939836, 0.977204843586571, 0.9762920971841205]\n",
            "[[1477    6   22   18    1]\n",
            " [  30 1373   12    1    1]\n",
            " [  21    1 1494    5    0]\n",
            " [  21    2   29 1494    8]\n",
            " [   3    1    0    0 1480]]\n",
            "time:  1183.0492870807648\n",
            "train : [1.0, 1.0, 1.0, 1.0, 1.0, 1.0, 1.0]\n",
            "test : [0.9792399885754485, 0.9792399885754485, 0.9781481718873014, 0.9777146510044213, 0.9774189175253065, 0.976739392923399, 0.9758103304014181]\n",
            "train : [1.0, 1.0, 1.0, 1.0, 1.0, 1.0, 1.0]\n",
            "test : [0.9790666666666666, 0.9790666666666666, 0.978, 0.9776, 0.9773333333333334, 0.9766666666666667, 0.9757333333333333]\n",
            "k 8\n",
            "train : [1.0, 1.0, 1.0, 1.0, 1.0, 1.0, 1.0, 1.0]\n",
            "test : [0.9794735273102322, 0.9794735273102322, 0.9785205975556028, 0.9780894057945924, 0.9778798804939836, 0.977204843586571, 0.9762920971841205, 0.9760517672523848]\n",
            "[[1481    6   20   16    1]\n",
            " [  32 1369   12    2    2]\n",
            " [  20    1 1495    5    0]\n",
            " [  19    2   33 1491    9]\n",
            " [   3    1    0    0 1480]]\n",
            "time:  1195.5230700969696\n",
            "train : [1.0, 1.0, 1.0, 1.0, 1.0, 1.0, 1.0, 1.0]\n",
            "test : [0.9792399885754485, 0.9792399885754485, 0.9781481718873014, 0.9777146510044213, 0.9774189175253065, 0.976739392923399, 0.9758103304014181, 0.9755160837960671]\n",
            "train : [1.0, 1.0, 1.0, 1.0, 1.0, 1.0, 1.0, 1.0]\n",
            "test : [0.9790666666666666, 0.9790666666666666, 0.978, 0.9776, 0.9773333333333334, 0.9766666666666667, 0.9757333333333333, 0.9754666666666667]\n",
            "k 9\n",
            "train : [1.0, 1.0, 1.0, 1.0, 1.0, 1.0, 1.0, 1.0, 1.0]\n",
            "test : [0.9794735273102322, 0.9794735273102322, 0.9785205975556028, 0.9780894057945924, 0.9778798804939836, 0.977204843586571, 0.9762920971841205, 0.9760517672523848, 0.9756639438855641]\n",
            "[[1478    7   22   16    1]\n",
            " [  33 1368   13    1    2]\n",
            " [  20    1 1495    5    0]\n",
            " [  17    2   35 1492    8]\n",
            " [   3    1    0    0 1480]]\n",
            "time:  1197.0826251506805\n",
            "train : [1.0, 1.0, 1.0, 1.0, 1.0, 1.0, 1.0, 1.0, 1.0]\n",
            "test : [0.9792399885754485, 0.9792399885754485, 0.9781481718873014, 0.9777146510044213, 0.9774189175253065, 0.976739392923399, 0.9758103304014181, 0.9755160837960671, 0.9751099398769565]\n",
            "train : [1.0, 1.0, 1.0, 1.0, 1.0, 1.0, 1.0, 1.0, 1.0]\n",
            "test : [0.9790666666666666, 0.9790666666666666, 0.978, 0.9776, 0.9773333333333334, 0.9766666666666667, 0.9757333333333333, 0.9754666666666667, 0.9750666666666666]\n",
            "k 10\n",
            "train : [1.0, 1.0, 1.0, 1.0, 1.0, 1.0, 1.0, 1.0, 1.0, 1.0]\n",
            "test : [0.9794735273102322, 0.9794735273102322, 0.9785205975556028, 0.9780894057945924, 0.9778798804939836, 0.977204843586571, 0.9762920971841205, 0.9760517672523848, 0.9756639438855641, 0.9759485377260362]\n",
            "[[1481    5   20   17    1]\n",
            " [  32 1369   13    1    2]\n",
            " [  19    2 1495    5    0]\n",
            " [  19    1   35 1490    9]\n",
            " [   3    1    0    0 1480]]\n",
            "time:  1191.8316957950592\n",
            "train : [1.0, 1.0, 1.0, 1.0, 1.0, 1.0, 1.0, 1.0, 1.0, 1.0]\n",
            "test : [0.9792399885754485, 0.9792399885754485, 0.9781481718873014, 0.9777146510044213, 0.9774189175253065, 0.976739392923399, 0.9758103304014181, 0.9755160837960671, 0.9751099398769565, 0.9753873836673671]\n",
            "train : [1.0, 1.0, 1.0, 1.0, 1.0, 1.0, 1.0, 1.0, 1.0, 1.0]\n",
            "test : [0.9790666666666666, 0.9790666666666666, 0.978, 0.9776, 0.9773333333333334, 0.9766666666666667, 0.9757333333333333, 0.9754666666666667, 0.9750666666666666, 0.9753333333333334]\n",
            "k 11\n",
            "train : [1.0, 1.0, 1.0, 1.0, 1.0, 1.0, 1.0, 1.0, 1.0, 1.0, 1.0]\n",
            "test : [0.9794735273102322, 0.9794735273102322, 0.9785205975556028, 0.9780894057945924, 0.9778798804939836, 0.977204843586571, 0.9762920971841205, 0.9760517672523848, 0.9756639438855641, 0.9759485377260362, 0.9750691526013711]\n",
            "[[1481    5   22   15    1]\n",
            " [  33 1366   15    1    2]\n",
            " [  21    2 1493    5    0]\n",
            " [  19    2   36 1488    9]\n",
            " [   3    1    0    0 1480]]\n",
            "time:  1186.2423722743988\n",
            "train : [1.0, 1.0, 1.0, 1.0, 1.0, 1.0, 1.0, 1.0, 1.0, 1.0, 1.0]\n",
            "test : [0.9792399885754485, 0.9792399885754485, 0.9781481718873014, 0.9777146510044213, 0.9774189175253065, 0.976739392923399, 0.9758103304014181, 0.9755160837960671, 0.9751099398769565, 0.9753873836673671, 0.9744435687503694]\n",
            "train : [1.0, 1.0, 1.0, 1.0, 1.0, 1.0, 1.0, 1.0, 1.0, 1.0, 1.0]\n",
            "test : [0.9790666666666666, 0.9790666666666666, 0.978, 0.9776, 0.9773333333333334, 0.9766666666666667, 0.9757333333333333, 0.9754666666666667, 0.9750666666666666, 0.9753333333333334, 0.9744]\n",
            "k 12\n",
            "train : [1.0, 1.0, 1.0, 1.0, 1.0, 1.0, 1.0, 1.0, 1.0, 1.0, 1.0, 1.0]\n",
            "test : [0.9794735273102322, 0.9794735273102322, 0.9785205975556028, 0.9780894057945924, 0.9778798804939836, 0.977204843586571, 0.9762920971841205, 0.9760517672523848, 0.9756639438855641, 0.9759485377260362, 0.9750691526013711, 0.9749389292028983]\n",
            "[[1480    5   22   16    1]\n",
            " [  34 1365   15    1    2]\n",
            " [  20    2 1494    5    0]\n",
            " [  17    2   38 1488    9]\n",
            " [   3    1    0    0 1480]]\n",
            "time:  1184.8651895523071\n",
            "train : [1.0, 1.0, 1.0, 1.0, 1.0, 1.0, 1.0, 1.0, 1.0, 1.0, 1.0, 1.0]\n",
            "test : [0.9792399885754485, 0.9792399885754485, 0.9781481718873014, 0.9777146510044213, 0.9774189175253065, 0.976739392923399, 0.9758103304014181, 0.9755160837960671, 0.9751099398769565, 0.9753873836673671, 0.9744435687503694, 0.9743026843333444]\n",
            "train : [1.0, 1.0, 1.0, 1.0, 1.0, 1.0, 1.0, 1.0, 1.0, 1.0, 1.0, 1.0]\n",
            "test : [0.9790666666666666, 0.9790666666666666, 0.978, 0.9776, 0.9773333333333334, 0.9766666666666667, 0.9757333333333333, 0.9754666666666667, 0.9750666666666666, 0.9753333333333334, 0.9744, 0.9742666666666666]\n",
            "k 13\n",
            "train : [1.0, 1.0, 1.0, 1.0, 1.0, 1.0, 1.0, 1.0, 1.0, 1.0, 1.0, 1.0, 1.0]\n",
            "test : [0.9794735273102322, 0.9794735273102322, 0.9785205975556028, 0.9780894057945924, 0.9778798804939836, 0.977204843586571, 0.9762920971841205, 0.9760517672523848, 0.9756639438855641, 0.9759485377260362, 0.9750691526013711, 0.9749389292028983, 0.9749720858162414]\n",
            "[[1480    4   24   15    1]\n",
            " [  31 1367   16    2    1]\n",
            " [  20    2 1494    5    0]\n",
            " [  20    2   37 1486    9]\n",
            " [   3    1    0    0 1480]]\n",
            "time:  1185.9379632472992\n",
            "train : [1.0, 1.0, 1.0, 1.0, 1.0, 1.0, 1.0, 1.0, 1.0, 1.0, 1.0, 1.0, 1.0]\n",
            "test : [0.9792399885754485, 0.9792399885754485, 0.9781481718873014, 0.9777146510044213, 0.9774189175253065, 0.976739392923399, 0.9758103304014181, 0.9755160837960671, 0.9751099398769565, 0.9753873836673671, 0.9744435687503694, 0.9743026843333444, 0.9743275705967628]\n",
            "train : [1.0, 1.0, 1.0, 1.0, 1.0, 1.0, 1.0, 1.0, 1.0, 1.0, 1.0, 1.0, 1.0]\n",
            "test : [0.9790666666666666, 0.9790666666666666, 0.978, 0.9776, 0.9773333333333334, 0.9766666666666667, 0.9757333333333333, 0.9754666666666667, 0.9750666666666666, 0.9753333333333334, 0.9744, 0.9742666666666666, 0.9742666666666666]\n",
            "k 14\n",
            "train : [1.0, 1.0, 1.0, 1.0, 1.0, 1.0, 1.0, 1.0, 1.0, 1.0, 1.0, 1.0, 1.0, 1.0]\n",
            "test : [0.9794735273102322, 0.9794735273102322, 0.9785205975556028, 0.9780894057945924, 0.9778798804939836, 0.977204843586571, 0.9762920971841205, 0.9760517672523848, 0.9756639438855641, 0.9759485377260362, 0.9750691526013711, 0.9749389292028983, 0.9749720858162414, 0.9747512661478901]\n",
            "[[1480    4   24   15    1]\n",
            " [  36 1365   14    1    1]\n",
            " [  21    2 1493    5    0]\n",
            " [  20    1   37 1487    9]\n",
            " [   3    1    0    0 1480]]\n",
            "time:  1182.6752750873566\n",
            "train : [1.0, 1.0, 1.0, 1.0, 1.0, 1.0, 1.0, 1.0, 1.0, 1.0, 1.0, 1.0, 1.0, 1.0]\n",
            "test : [0.9792399885754485, 0.9792399885754485, 0.9781481718873014, 0.9777146510044213, 0.9774189175253065, 0.976739392923399, 0.9758103304014181, 0.9755160837960671, 0.9751099398769565, 0.9753873836673671, 0.9744435687503694, 0.9743026843333444, 0.9743275705967628, 0.9740424917654595]\n",
            "train : [1.0, 1.0, 1.0, 1.0, 1.0, 1.0, 1.0, 1.0, 1.0, 1.0, 1.0, 1.0, 1.0, 1.0]\n",
            "test : [0.9790666666666666, 0.9790666666666666, 0.978, 0.9776, 0.9773333333333334, 0.9766666666666667, 0.9757333333333333, 0.9754666666666667, 0.9750666666666666, 0.9753333333333334, 0.9744, 0.9742666666666666, 0.9742666666666666, 0.974]\n"
          ],
          "name": "stdout"
        }
      ]
    },
    {
      "metadata": {
        "id": "A89zaEjdVb1G",
        "colab_type": "code",
        "colab": {}
      },
      "cell_type": "code",
      "source": [
        "import matplotlib.pyplot as plt\n",
        "plt.figure()\n",
        "plt.title('Fashion KNN: Precision Recall and Accuracy vs K when Weighted Uniformly')\n",
        "#plt.ylim((0,1))\n",
        "plt.plot(ks, list(train_precision), 'o-', color='blue', label='train precision')\n",
        "plt.plot(ks, list(train_recall), 'x', color='green', label='train recall', linestyle=':')\n",
        "plt.plot(ks, list(train_acc), '-', label='train accuracy', color='pink')\n",
        "\n",
        "\n",
        "plt.plot(ks, list(test_precision), 'o-', color='red', label='test precision')\n",
        "plt.plot(ks, list(test_recall), 'x',color='orange', label='test recall', linestyle=':')\n",
        "\n",
        "plt.plot(ks, list(test_acc), '-', label='test accuracy', color='indigo')\n",
        "\n",
        "\n",
        "#plt.errorbar(depth, list(cross_val_acc_avg),yerr=list(cross_val_acc_std), fmt='r', label='cross validation error')\n",
        "plt.savefig('precision_recall_knn_fashion')\n",
        "plt.legend()\n",
        "plt.show()\n",
        "#ideal number of layers is 2 layer"
      ],
      "execution_count": 0,
      "outputs": []
    },
    {
      "metadata": {
        "id": "PaYoRdRYVb1P",
        "colab_type": "code",
        "outputId": "44518410-5cb9-4ccf-f947-43f8227de7d3",
        "colab": {
          "base_uri": "https://localhost:8080/",
          "height": 34
        }
      },
      "cell_type": "code",
      "source": [
        "import operator\n",
        "import numpy as np\n",
        "np.average(list(map(operator.sub, test_recall, test_acc)))"
      ],
      "execution_count": 0,
      "outputs": [
        {
          "output_type": "execute_result",
          "data": {
            "text/plain": [
              "-0.00012062419592233642"
            ]
          },
          "metadata": {
            "tags": []
          },
          "execution_count": 29
        }
      ]
    },
    {
      "metadata": {
        "id": "StfGl_rQQru0",
        "colab_type": "code",
        "colab": {}
      },
      "cell_type": "code",
      "source": [
        "val=30000*0.25\n",
        "prec =[i*val for i in test_precision]\n",
        "acc =[i*val for i in test_acc]\n",
        "#test_acc*30000*0.25"
      ],
      "execution_count": 0,
      "outputs": []
    },
    {
      "metadata": {
        "id": "Z6yM9muTReRP",
        "colab_type": "code",
        "outputId": "e185d08e-2c99-4333-e8df-8bbfc543052e",
        "colab": {
          "base_uri": "https://localhost:8080/",
          "height": 357
        }
      },
      "cell_type": "code",
      "source": [
        "test_acc"
      ],
      "execution_count": 0,
      "outputs": [
        {
          "output_type": "execute_result",
          "data": {
            "text/plain": [
              "[0.9785333333333334,\n",
              " 0.9749333333333333,\n",
              " 0.978,\n",
              " 0.9768,\n",
              " 0.9773333333333334,\n",
              " 0.9757333333333333,\n",
              " 0.9749333333333333,\n",
              " 0.9737333333333333,\n",
              " 0.9732,\n",
              " 0.9733333333333334,\n",
              " 0.9728,\n",
              " 0.9724,\n",
              " 0.9722666666666666,\n",
              " 0.9712,\n",
              " 0.9710666666666666,\n",
              " 0.9701333333333333,\n",
              " 0.9701333333333333,\n",
              " 0.9696,\n",
              " 0.9698666666666667,\n",
              " 0.9696]"
            ]
          },
          "metadata": {
            "tags": []
          },
          "execution_count": 36
        }
      ]
    },
    {
      "metadata": {
        "id": "Q4Ecz-YSR0kw",
        "colab_type": "code",
        "outputId": "14cc131c-04ed-4f37-a17e-99f2f5206511",
        "colab": {
          "base_uri": "https://localhost:8080/",
          "height": 357
        }
      },
      "cell_type": "code",
      "source": [
        "acc"
      ],
      "execution_count": 0,
      "outputs": [
        {
          "output_type": "execute_result",
          "data": {
            "text/plain": [
              "[7339.0,\n",
              " 7312.0,\n",
              " 7335.0,\n",
              " 7326.0,\n",
              " 7330.0,\n",
              " 7318.0,\n",
              " 7312.0,\n",
              " 7303.0,\n",
              " 7299.0,\n",
              " 7300.0,\n",
              " 7296.0,\n",
              " 7293.0,\n",
              " 7292.0,\n",
              " 7284.0,\n",
              " 7283.0,\n",
              " 7276.0,\n",
              " 7276.0,\n",
              " 7272.0,\n",
              " 7274.0,\n",
              " 7272.0]"
            ]
          },
          "metadata": {
            "tags": []
          },
          "execution_count": 25
        }
      ]
    },
    {
      "metadata": {
        "id": "DUVKw9HJPuXw",
        "colab_type": "code",
        "outputId": "7de7619b-dda3-40c6-d3b2-9baf9033127a",
        "colab": {
          "base_uri": "https://localhost:8080/",
          "height": 362
        }
      },
      "cell_type": "code",
      "source": [
        "import matplotlib.pyplot as plt\n",
        "plt.figure()\n",
        "plt.title('Fashion KNN: Accuracy vs K')\n",
        "#plt.ylim((0,1))\n",
        "plt.plot(ks, list(train_acc), 'o-',  label='train precision')#\n",
        "#plt.plot(ks, list(train_recall), 'x', color='green', label='train recall', linestyle=':')\n",
        "\n",
        "plt.plot(ks, list(test_acc), 'o-',  label='test precision')\n",
        "\n",
        "\n",
        "#plt.plot(ks, list(test_recall), 'x',color='orange', label='test recall', linestyle=':')\n",
        "\n",
        "#plt.errorbar(depth, list(cross_val_acc_avg),yerr=list(cross_val_acc_std), fmt='r', label='cross validation error')\n",
        "plt.savefig('precision_recall_knn_fashion')\n",
        "plt.legend()\n",
        "plt.show()"
      ],
      "execution_count": 0,
      "outputs": [
        {
          "output_type": "display_data",
          "data": {
            "image/png": "[encoded data removed]",
            "text/plain": [
              "<Figure size 576x396 with 1 Axes>"
            ]
          },
          "metadata": {
            "tags": []
          }
        }
      ]
    },
    {
      "metadata": {
        "id": "3IAOl1xrVb1W",
        "colab_type": "code",
        "outputId": "1143cab7-ed9a-41cf-ce8e-4620a8e57739",
        "colab": {
          "base_uri": "https://localhost:8080/",
          "height": 187
        }
      },
      "cell_type": "code",
      "source": [
        "from collections import Counter\n",
        "df = pd.read_csv('fashion-mnist_train.csv', delimiter=',', quotechar='\"')\n",
        "cnt = Counter(df[\"label\"]).items()\n",
        "labels = set(df[\"label\"])\n",
        "percentages = {x: float(float(y) / len(df[\"label\"]) * 100) for x, y in cnt}\n",
        "for name, pct in percentages.items():\n",
        "    print(name, pct)"
      ],
      "execution_count": 0,
      "outputs": [
        {
          "output_type": "stream",
          "text": [
            "2 10.0\n",
            "9 10.0\n",
            "6 10.0\n",
            "0 10.0\n",
            "3 10.0\n",
            "4 10.0\n",
            "5 10.0\n",
            "8 10.0\n",
            "7 10.0\n",
            "1 10.0\n"
          ],
          "name": "stdout"
        }
      ]
    },
    {
      "metadata": {
        "id": "ESwSRaElRid5",
        "colab_type": "code",
        "outputId": "41cc3d18-7e34-40f6-d154-86fdf83cd5d1",
        "colab": {
          "base_uri": "https://localhost:8080/",
          "height": 5494
        }
      },
      "cell_type": "code",
      "source": [
        "#this is for accuracy vs portion of training set \n",
        "import pandas as pd\n",
        "import matplotlib.pyplot as plt\n",
        "from sklearn.metrics import mean_squared_error\n",
        "from sklearn.model_selection import train_test_split\n",
        "from sklearn.preprocessing import StandardScaler\n",
        "from sklearn.metrics import classification_report,confusion_matrix\n",
        "from sklearn.neighbors import KNeighborsClassifier\n",
        "from sklearn.metrics import balanced_accuracy_score,f1_score, accuracy_score, precision_score, recall_score\n",
        "import time\n",
        "\n",
        "#df = pd.read_csv('fashion-mnist_train.csv', delimiter=',', quotechar='\"')\n",
        "#df=df.sample(frac=0.25, replace=False)\n",
        "features = df.loc[:,\"pixel1\":\"pixel784\"]\n",
        "#X_train, X_test, y_train, y_test = train_test_split(features, df[\"label\"], test_size=0.5)\n",
        "\n",
        "X_train, X_test, y_train, y_test = train_test_split(features,df[\"label\"], test_size=0.25)\n",
        "\n",
        "scaler = StandardScaler()\n",
        "scaler.fit(X_train)\n",
        "X_train = scaler.transform(X_train)\n",
        "X_test = scaler.transform(X_test)\n",
        "\n",
        "\n",
        "#kNN\n",
        "ks = range(1, 21)\n",
        "train_precision = []\n",
        "test_precision = []\n",
        "\n",
        "train_recall = []\n",
        "test_recall = []\n",
        "\n",
        "train_acc = []\n",
        "test_acc =[]\n",
        "\n",
        "portions = range(10,250,10)\n",
        "print(\"her\")\n",
        "for i, k in enumerate(portions):\n",
        "    #print ('kNN: learning a kNN classifier with k = ' + str(k))\n",
        "    start = time.time()\n",
        "    clf = KNeighborsClassifier(n_neighbors = 3, metric=\"euclidean\")\n",
        "    \n",
        "    end = k\n",
        "    clf.fit(X_train[:end], y_train[:end])\n",
        "    train_pred = clf.predict(X_train[:end])\n",
        "    \n",
        "    print ('portion ' + str(k))\n",
        "    train_precision.append(precision_score(y_train[:end], train_pred[:end], average='macro'))\n",
        "    test_precision.append(precision_score(y_test, test_pred, average='macro'))\n",
        "    print(\"train :\", train_precision)\n",
        "    print(\"test :\", test_precision)\n",
        "    \n",
        "    print(confusion_matrix(y_test, test_pred))\n",
        "    print(\"time: \", time.time() - start)\n",
        "    \n",
        "    train_recall.append(recall_score(y_train[:end], train_pred[:end], average='macro'))\n",
        "    test_recall.append(recall_score(y_test, test_pred, average='macro'))\n",
        "    \n",
        "    print(\"train :\", train_recall)\n",
        "    print(\"test :\", test_recall)\n",
        "    train_acc.append(accuracy_score(y_train[:end], train_pred[:end]))\n",
        "    test_acc.append(accuracy_score(y_test, test_pred))\n",
        "    \n",
        "    print(\"train :\", train_acc)\n",
        "    print(\"test :\", test_acc)"
      ],
      "execution_count": 0,
      "outputs": [
        {
          "output_type": "stream",
          "text": [
            "/usr/local/lib/python3.6/dist-packages/sklearn/preprocessing/data.py:625: DataConversionWarning: Data with input dtype int64 were all converted to float64 by StandardScaler.\n",
            "  return self.partial_fit(X, y)\n",
            "/usr/local/lib/python3.6/dist-packages/ipykernel_launcher.py:21: DataConversionWarning: Data with input dtype int64 were all converted to float64 by StandardScaler.\n",
            "/usr/local/lib/python3.6/dist-packages/ipykernel_launcher.py:22: DataConversionWarning: Data with input dtype int64 were all converted to float64 by StandardScaler.\n"
          ],
          "name": "stderr"
        },
        {
          "output_type": "stream",
          "text": [
            "her\n",
            "portion 10\n",
            "train : [0.7]\n",
            "test : [0.38826799846247323]\n",
            "[[1423   28    0    0    9]\n",
            " [ 136 1414    0    0    0]\n",
            " [1372   61    0    0   17]\n",
            " [ 431    4    0    0 1036]\n",
            " [  59    0    0    0 1510]]\n",
            "time:  0.555844783782959\n",
            "train : [0.75]\n",
            "test : [0.5698624059220756]\n",
            "train : [0.9]\n",
            "test : [0.5796]\n"
          ],
          "name": "stdout"
        },
        {
          "output_type": "stream",
          "text": [
            "/usr/local/lib/python3.6/dist-packages/sklearn/metrics/classification.py:1143: UndefinedMetricWarning: Precision is ill-defined and being set to 0.0 in labels with no predicted samples.\n",
            "  'precision', 'predicted', average, warn_for)\n"
          ],
          "name": "stderr"
        },
        {
          "output_type": "stream",
          "text": [
            "portion 20\n",
            "train : [0.7, 0.5114285714285713]\n",
            "test : [0.38826799846247323, 0.6221622375871547]\n",
            "[[1444   14    0    0    2]\n",
            " [ 168 1382    0    0    0]\n",
            " [1421   27    2    0    0]\n",
            " [ 786    2   48   51  584]\n",
            " [  23    0    0    0 1546]]\n",
            "time:  0.6224215030670166\n",
            "train : [0.75, 0.6]\n",
            "test : [0.5698624059220756, 0.5804089166592171]\n",
            "train : [0.9, 0.8]\n",
            "test : [0.5796, 0.59]\n"
          ],
          "name": "stdout"
        },
        {
          "output_type": "stream",
          "text": [
            "/usr/local/lib/python3.6/dist-packages/sklearn/metrics/classification.py:1143: UndefinedMetricWarning: Precision is ill-defined and being set to 0.0 in labels with no predicted samples.\n",
            "  'precision', 'predicted', average, warn_for)\n"
          ],
          "name": "stderr"
        },
        {
          "output_type": "stream",
          "text": [
            "portion 30\n",
            "train : [0.7, 0.5114285714285713, 0.8717948717948719]\n",
            "test : [0.38826799846247323, 0.6221622375871547, 0.8241227068776592]\n",
            "[[1433   14   12    1    0]\n",
            " [ 263 1275   12    0    0]\n",
            " [ 427   20 1003    0    0]\n",
            " [ 557    1  273  375  265]\n",
            " [  37    1    1    0 1530]]\n",
            "time:  0.7032108306884766\n",
            "train : [0.75, 0.6, 0.78]\n",
            "test : [0.5698624059220756, 0.5804089166592171, 0.7451767311670959]\n",
            "train : [0.9, 0.8, 0.8333333333333334]\n",
            "test : [0.5796, 0.59, 0.7488]\n",
            "portion 40\n",
            "train : [0.7, 0.5114285714285713, 0.8717948717948719, 0.9538461538461538]\n",
            "test : [0.38826799846247323, 0.6221622375871547, 0.8241227068776592, 0.8702937039456762]\n",
            "[[1422   14   16    8    0]\n",
            " [ 258 1277   15    0    0]\n",
            " [ 319   21 1104    6    0]\n",
            " [ 203    2  186  968  112]\n",
            " [  33    1   14    0 1521]]\n",
            "time:  0.7898993492126465\n",
            "train : [0.75, 0.6, 0.78, 0.9018181818181817]\n",
            "test : [0.5698624059220756, 0.5804089166592171, 0.7451767311670959, 0.8373371781984875]\n",
            "train : [0.9, 0.8, 0.8333333333333334, 0.925]\n",
            "test : [0.5796, 0.59, 0.7488, 0.8389333333333333]\n",
            "portion 50\n",
            "train : [0.7, 0.5114285714285713, 0.8717948717948719, 0.9538461538461538, 0.96]\n",
            "test : [0.38826799846247323, 0.6221622375871547, 0.8241227068776592, 0.8702937039456762, 0.8964949465501755]\n",
            "[[1396   12   40   12    0]\n",
            " [ 264 1262   23    1    0]\n",
            " [ 218   12 1211    9    0]\n",
            " [ 153    1  107 1174   36]\n",
            " [  22    0   19    2 1526]]\n",
            "time:  0.8630402088165283\n",
            "train : [0.75, 0.6, 0.78, 0.9018181818181817, 0.9112820512820512]\n",
            "test : [0.5698624059220756, 0.5804089166592171, 0.7451767311670959, 0.8373371781984875, 0.8752441775270986]\n",
            "train : [0.9, 0.8, 0.8333333333333334, 0.925, 0.94]\n",
            "test : [0.5796, 0.59, 0.7488, 0.8389333333333333, 0.8758666666666667]\n",
            "portion 60\n",
            "train : [0.7, 0.5114285714285713, 0.8717948717948719, 0.9538461538461538, 0.96, 0.9555555555555555]\n",
            "test : [0.38826799846247323, 0.6221622375871547, 0.8241227068776592, 0.8702937039456762, 0.8964949465501755, 0.8971077483151306]\n",
            "[[1369   30   49   12    0]\n",
            " [ 225 1301   23    1    0]\n",
            " [ 173   28 1241    8    0]\n",
            " [ 152    2  112 1174   31]\n",
            " [  20    0   15    1 1533]]\n",
            "time:  0.9426858425140381\n",
            "train : [0.75, 0.6, 0.78, 0.9018181818181817, 0.9112820512820512, 0.9138305322128852]\n",
            "test : [0.5698624059220756, 0.5804089166592171, 0.7451767311670959, 0.8373371781984875, 0.8752441775270986, 0.8816080245706918]\n",
            "train : [0.9, 0.8, 0.8333333333333334, 0.925, 0.94, 0.9333333333333333]\n",
            "test : [0.5796, 0.59, 0.7488, 0.8389333333333333, 0.8758666666666667, 0.8824]\n",
            "portion 70\n",
            "train : [0.7, 0.5114285714285713, 0.8717948717948719, 0.9538461538461538, 0.96, 0.9555555555555555, 0.95]\n",
            "test : [0.38826799846247323, 0.6221622375871547, 0.8241227068776592, 0.8702937039456762, 0.8964949465501755, 0.8971077483151306, 0.905254077534558]\n",
            "[[1344   34   71   11    0]\n",
            " [ 148 1359   43    0    0]\n",
            " [  94   28 1324    4    0]\n",
            " [ 131    2  147 1167   24]\n",
            " [  22    1   14    1 1531]]\n",
            "time:  1.150810956954956\n",
            "train : [0.75, 0.6, 0.78, 0.9018181818181817, 0.9112820512820512, 0.9138305322128852, 0.9321241830065359]\n",
            "test : [0.5698624059220756, 0.5804089166592171, 0.7451767311670959, 0.8373371781984875, 0.8752441775270986, 0.8816080245706918, 0.8959088408997602]\n",
            "train : [0.9, 0.8, 0.8333333333333334, 0.925, 0.94, 0.9333333333333333, 0.9428571428571428]\n",
            "test : [0.5796, 0.59, 0.7488, 0.8389333333333333, 0.8758666666666667, 0.8824, 0.8966666666666666]\n",
            "portion 80\n",
            "train : [0.7, 0.5114285714285713, 0.8717948717948719, 0.9538461538461538, 0.96, 0.9555555555555555, 0.95, 0.9243697478991596]\n",
            "test : [0.38826799846247323, 0.6221622375871547, 0.8241227068776592, 0.8702937039456762, 0.8964949465501755, 0.8971077483151306, 0.905254077534558, 0.8999297731067895]\n",
            "[[1259   24  165   12    0]\n",
            " [ 134 1346   70    0    0]\n",
            " [  51   17 1380    2    0]\n",
            " [ 106    1  190 1151   23]\n",
            " [  22    1   17    1 1528]]\n",
            "time:  1.2371633052825928\n",
            "train : [0.75, 0.6, 0.78, 0.9018181818181817, 0.9112820512820512, 0.9138305322128852, 0.9321241830065359, 0.9030242272347536]\n",
            "test : [0.5698624059220756, 0.5804089166592171, 0.7451767311670959, 0.8373371781984875, 0.8752441775270986, 0.8816080245706918, 0.8959088408997602, 0.8877539237911465]\n",
            "train : [0.9, 0.8, 0.8333333333333334, 0.925, 0.94, 0.9333333333333333, 0.9428571428571428, 0.9125]\n",
            "test : [0.5796, 0.59, 0.7488, 0.8389333333333333, 0.8758666666666667, 0.8824, 0.8966666666666666, 0.8885333333333333]\n",
            "portion 90\n",
            "train : [0.7, 0.5114285714285713, 0.8717948717948719, 0.9538461538461538, 0.96, 0.9555555555555555, 0.95, 0.9243697478991596, 0.9282828282828284]\n",
            "test : [0.38826799846247323, 0.6221622375871547, 0.8241227068776592, 0.8702937039456762, 0.8964949465501755, 0.8971077483151306, 0.905254077534558, 0.8999297731067895, 0.9060581099281017]\n",
            "[[1260   26  162   12    0]\n",
            " [ 108 1385   57    0    0]\n",
            " [  49   18 1379    4    0]\n",
            " [ 102    1  166 1177   25]\n",
            " [  22    1   17    0 1529]]\n",
            "time:  1.317786693572998\n",
            "train : [0.75, 0.6, 0.78, 0.9018181818181817, 0.9112820512820512, 0.9138305322128852, 0.9321241830065359, 0.9030242272347536, 0.919047619047619]\n",
            "test : [0.5698624059220756, 0.5804089166592171, 0.7451767311670959, 0.8373371781984875, 0.8752441775270986, 0.8816080245706918, 0.8959088408997602, 0.8877539237911465, 0.8964477170456346]\n",
            "train : [0.9, 0.8, 0.8333333333333334, 0.925, 0.94, 0.9333333333333333, 0.9428571428571428, 0.9125, 0.9222222222222223]\n",
            "test : [0.5796, 0.59, 0.7488, 0.8389333333333333, 0.8758666666666667, 0.8824, 0.8966666666666666, 0.8885333333333333, 0.8973333333333333]\n",
            "portion 100\n",
            "train : [0.7, 0.5114285714285713, 0.8717948717948719, 0.9538461538461538, 0.96, 0.9555555555555555, 0.95, 0.9243697478991596, 0.9282828282828284, 0.9163043478260869]\n",
            "test : [0.38826799846247323, 0.6221622375871547, 0.8241227068776592, 0.8702937039456762, 0.8964949465501755, 0.8971077483151306, 0.905254077534558, 0.8999297731067895, 0.9060581099281017, 0.9048696824986328]\n",
            "[[1271   25  151   13    0]\n",
            " [ 106 1389   55    0    0]\n",
            " [  53   18 1374    5    0]\n",
            " [ 124    1  145 1163   38]\n",
            " [  22    1   17    0 1529]]\n",
            "time:  1.3967084884643555\n",
            "train : [0.75, 0.6, 0.78, 0.9018181818181817, 0.9112820512820512, 0.9138305322128852, 0.9321241830065359, 0.9030242272347536, 0.919047619047619, 0.909713438735178]\n",
            "test : [0.5698624059220756, 0.5804089166592171, 0.7451767311670959, 0.8373371781984875, 0.8752441775270986, 0.8816080245706918, 0.8959088408997602, 0.8877539237911465, 0.8964477170456346, 0.8958775731913157]\n",
            "train : [0.9, 0.8, 0.8333333333333334, 0.925, 0.94, 0.9333333333333333, 0.9428571428571428, 0.9125, 0.9222222222222223, 0.91]\n",
            "test : [0.5796, 0.59, 0.7488, 0.8389333333333333, 0.8758666666666667, 0.8824, 0.8966666666666666, 0.8885333333333333, 0.8973333333333333, 0.8968]\n",
            "portion 110\n",
            "train : [0.7, 0.5114285714285713, 0.8717948717948719, 0.9538461538461538, 0.96, 0.9555555555555555, 0.95, 0.9243697478991596, 0.9282828282828284, 0.9163043478260869, 0.9186259143155695]\n",
            "test : [0.38826799846247323, 0.6221622375871547, 0.8241227068776592, 0.8702937039456762, 0.8964949465501755, 0.8971077483151306, 0.905254077534558, 0.8999297731067895, 0.9060581099281017, 0.9048696824986328, 0.9056445003896549]\n",
            "[[1295   25  128   12    0]\n",
            " [ 110 1391   49    0    0]\n",
            " [  62   18 1365    5    0]\n",
            " [ 142    1  138 1152   38]\n",
            " [  22    1   17    0 1529]]\n",
            "time:  1.4690990447998047\n",
            "train : [0.75, 0.6, 0.78, 0.9018181818181817, 0.9112820512820512, 0.9138305322128852, 0.9321241830065359, 0.9030242272347536, 0.919047619047619, 0.909713438735178, 0.9093338360985419]\n",
            "test : [0.5698624059220756, 0.5804089166592171, 0.7451767311670959, 0.8373371781984875, 0.8752441775270986, 0.8816080245706918, 0.8959088408997602, 0.8877539237911465, 0.8964477170456346, 0.8958775731913157, 0.8966863483927231]\n",
            "train : [0.9, 0.8, 0.8333333333333334, 0.925, 0.94, 0.9333333333333333, 0.9428571428571428, 0.9125, 0.9222222222222223, 0.91, 0.9090909090909091]\n",
            "test : [0.5796, 0.59, 0.7488, 0.8389333333333333, 0.8758666666666667, 0.8824, 0.8966666666666666, 0.8885333333333333, 0.8973333333333333, 0.8968, 0.8976]\n",
            "portion 120\n",
            "train : [0.7, 0.5114285714285713, 0.8717948717948719, 0.9538461538461538, 0.96, 0.9555555555555555, 0.95, 0.9243697478991596, 0.9282828282828284, 0.9163043478260869, 0.9186259143155695, 0.9364015444015443]\n",
            "test : [0.38826799846247323, 0.6221622375871547, 0.8241227068776592, 0.8702937039456762, 0.8964949465501755, 0.8971077483151306, 0.905254077534558, 0.8999297731067895, 0.9060581099281017, 0.9048696824986328, 0.9056445003896549, 0.9099612514700569]\n",
            "[[1368   16   66   10    0]\n",
            " [ 154 1354   42    0    0]\n",
            " [  90   15 1340    5    0]\n",
            " [ 145    1  133 1152   40]\n",
            " [  21    0   11    0 1537]]\n",
            "time:  1.5620548725128174\n",
            "train : [0.75, 0.6, 0.78, 0.9018181818181817, 0.9112820512820512, 0.9138305322128852, 0.9321241830065359, 0.9030242272347536, 0.919047619047619, 0.909713438735178, 0.9093338360985419, 0.9207899235267656]\n",
            "test : [0.5698624059220756, 0.5804089166592171, 0.7451767311670959, 0.8373371781984875, 0.8752441775270986, 0.8816080245706918, 0.8959088408997602, 0.8877539237911465, 0.8964477170456346, 0.8958775731913157, 0.8966863483927231, 0.8994836367897877]\n",
            "train : [0.9, 0.8, 0.8333333333333334, 0.925, 0.94, 0.9333333333333333, 0.9428571428571428, 0.9125, 0.9222222222222223, 0.91, 0.9090909090909091, 0.925]\n",
            "test : [0.5796, 0.59, 0.7488, 0.8389333333333333, 0.8758666666666667, 0.8824, 0.8966666666666666, 0.8885333333333333, 0.8973333333333333, 0.8968, 0.8976, 0.9001333333333333]\n",
            "portion 130\n",
            "train : [0.7, 0.5114285714285713, 0.8717948717948719, 0.9538461538461538, 0.96, 0.9555555555555555, 0.95, 0.9243697478991596, 0.9282828282828284, 0.9163043478260869, 0.9186259143155695, 0.9364015444015443, 0.9448840144492319]\n",
            "test : [0.38826799846247323, 0.6221622375871547, 0.8241227068776592, 0.8702937039456762, 0.8964949465501755, 0.8971077483151306, 0.905254077534558, 0.8999297731067895, 0.9060581099281017, 0.9048696824986328, 0.9056445003896549, 0.9099612514700569, 0.9167919384898893]\n",
            "[[1368   16   65   11    0]\n",
            " [ 127 1387   36    0    0]\n",
            " [  74   19 1352    5    0]\n",
            " [ 142    1  108 1178   42]\n",
            " [  20    4    8    0 1537]]\n",
            "time:  1.840425729751587\n",
            "train : [0.75, 0.6, 0.78, 0.9018181818181817, 0.9112820512820512, 0.9138305322128852, 0.9321241830065359, 0.9030242272347536, 0.919047619047619, 0.909713438735178, 0.9093338360985419, 0.9207899235267656, 0.9385860244480935]\n",
            "test : [0.5698624059220756, 0.5804089166592171, 0.7451767311670959, 0.8373371781984875, 0.8752441775270986, 0.8816080245706918, 0.8959088408997602, 0.8877539237911465, 0.8964477170456346, 0.8958775731913157, 0.8966863483927231, 0.8994836367897877, 0.9089318839168545]\n",
            "train : [0.9, 0.8, 0.8333333333333334, 0.925, 0.94, 0.9333333333333333, 0.9428571428571428, 0.9125, 0.9222222222222223, 0.91, 0.9090909090909091, 0.925, 0.9384615384615385]\n",
            "test : [0.5796, 0.59, 0.7488, 0.8389333333333333, 0.8758666666666667, 0.8824, 0.8966666666666666, 0.8885333333333333, 0.8973333333333333, 0.8968, 0.8976, 0.9001333333333333, 0.9096]\n",
            "portion 140\n",
            "train : [0.7, 0.5114285714285713, 0.8717948717948719, 0.9538461538461538, 0.96, 0.9555555555555555, 0.95, 0.9243697478991596, 0.9282828282828284, 0.9163043478260869, 0.9186259143155695, 0.9364015444015443, 0.9448840144492319, 0.9454619454619454]\n",
            "test : [0.38826799846247323, 0.6221622375871547, 0.8241227068776592, 0.8702937039456762, 0.8964949465501755, 0.8971077483151306, 0.905254077534558, 0.8999297731067895, 0.9060581099281017, 0.9048696824986328, 0.9056445003896549, 0.9099612514700569, 0.9167919384898893, 0.9165538399303443]\n",
            "[[1336   17   96   11    0]\n",
            " [ 110 1405   35    0    0]\n",
            " [  43   20 1380    7    0]\n",
            " [ 115    1  139 1174   42]\n",
            " [  14    4   17    0 1534]]\n",
            "time:  1.942472219467163\n",
            "train : [0.75, 0.6, 0.78, 0.9018181818181817, 0.9112820512820512, 0.9138305322128852, 0.9321241830065359, 0.9030242272347536, 0.919047619047619, 0.909713438735178, 0.9093338360985419, 0.9207899235267656, 0.9385860244480935, 0.9455687830687831]\n",
            "test : [0.5698624059220756, 0.5804089166592171, 0.7451767311670959, 0.8373371781984875, 0.8752441775270986, 0.8816080245706918, 0.8959088408997602, 0.8877539237911465, 0.8964477170456346, 0.8958775731913157, 0.8966863483927231, 0.8994836367897877, 0.9089318839168545, 0.9098067149832396]\n",
            "train : [0.9, 0.8, 0.8333333333333334, 0.925, 0.94, 0.9333333333333333, 0.9428571428571428, 0.9125, 0.9222222222222223, 0.91, 0.9090909090909091, 0.925, 0.9384615384615385, 0.9428571428571428]\n",
            "test : [0.5796, 0.59, 0.7488, 0.8389333333333333, 0.8758666666666667, 0.8824, 0.8966666666666666, 0.8885333333333333, 0.8973333333333333, 0.8968, 0.8976, 0.9001333333333333, 0.9096, 0.9105333333333333]\n",
            "portion 150\n",
            "train : [0.7, 0.5114285714285713, 0.8717948717948719, 0.9538461538461538, 0.96, 0.9555555555555555, 0.95, 0.9243697478991596, 0.9282828282828284, 0.9163043478260869, 0.9186259143155695, 0.9364015444015443, 0.9448840144492319, 0.9454619454619454, 0.9430289065772935]\n",
            "test : [0.38826799846247323, 0.6221622375871547, 0.8241227068776592, 0.8702937039456762, 0.8964949465501755, 0.8971077483151306, 0.905254077534558, 0.8999297731067895, 0.9060581099281017, 0.9048696824986328, 0.9056445003896549, 0.9099612514700569, 0.9167919384898893, 0.9165538399303443, 0.9165519071635391]\n",
            "[[1336   17   96   11    0]\n",
            " [  97 1420   33    0    0]\n",
            " [  41   21 1381    7    0]\n",
            " [ 113    2  138 1161   57]\n",
            " [  14    4   17    0 1534]]\n",
            "time:  1.976637363433838\n",
            "train : [0.75, 0.6, 0.78, 0.9018181818181817, 0.9112820512820512, 0.9138305322128852, 0.9321241830065359, 0.9030242272347536, 0.919047619047619, 0.909713438735178, 0.9093338360985419, 0.9207899235267656, 0.9385860244480935, 0.9455687830687831, 0.9418713684632338]\n",
            "test : [0.5698624059220756, 0.5804089166592171, 0.7451767311670959, 0.8373371781984875, 0.8752441775270986, 0.8816080245706918, 0.8959088408997602, 0.8877539237911465, 0.8964477170456346, 0.8958775731913157, 0.8966863483927231, 0.8994836367897877, 0.9089318839168545, 0.9098067149832396, 0.9101126247901176]\n",
            "train : [0.9, 0.8, 0.8333333333333334, 0.925, 0.94, 0.9333333333333333, 0.9428571428571428, 0.9125, 0.9222222222222223, 0.91, 0.9090909090909091, 0.925, 0.9384615384615385, 0.9428571428571428, 0.94]\n",
            "test : [0.5796, 0.59, 0.7488, 0.8389333333333333, 0.8758666666666667, 0.8824, 0.8966666666666666, 0.8885333333333333, 0.8973333333333333, 0.8968, 0.8976, 0.9001333333333333, 0.9096, 0.9105333333333333, 0.9109333333333334]\n",
            "portion 160\n",
            "train : [0.7, 0.5114285714285713, 0.8717948717948719, 0.9538461538461538, 0.96, 0.9555555555555555, 0.95, 0.9243697478991596, 0.9282828282828284, 0.9163043478260869, 0.9186259143155695, 0.9364015444015443, 0.9448840144492319, 0.9454619454619454, 0.9430289065772935, 0.9458557702460141]\n",
            "test : [0.38826799846247323, 0.6221622375871547, 0.8241227068776592, 0.8702937039456762, 0.8964949465501755, 0.8971077483151306, 0.905254077534558, 0.8999297731067895, 0.9060581099281017, 0.9048696824986328, 0.9056445003896549, 0.9099612514700569, 0.9167919384898893, 0.9165538399303443, 0.9165519071635391, 0.9204313632484235]\n",
            "[[1342   20   87   11    0]\n",
            " [  63 1457   30    0    0]\n",
            " [  41   26 1376    7    0]\n",
            " [ 111    4  136 1161   59]\n",
            " [  14    4   17    0 1534]]\n",
            "time:  2.052715539932251\n",
            "train : [0.75, 0.6, 0.78, 0.9018181818181817, 0.9112820512820512, 0.9138305322128852, 0.9321241830065359, 0.9030242272347536, 0.919047619047619, 0.909713438735178, 0.9093338360985419, 0.9207899235267656, 0.9385860244480935, 0.9455687830687831, 0.9418713684632338, 0.9468129571577848]\n",
            "test : [0.5698624059220756, 0.5804089166592171, 0.7451767311670959, 0.8373371781984875, 0.8752441775270986, 0.8816080245706918, 0.8959088408997602, 0.8877539237911465, 0.8964477170456346, 0.8958775731913157, 0.8966863483927231, 0.8994836367897877, 0.9089318839168545, 0.9098067149832396, 0.9101126247901176, 0.9150190809743102]\n",
            "train : [0.9, 0.8, 0.8333333333333334, 0.925, 0.94, 0.9333333333333333, 0.9428571428571428, 0.9125, 0.9222222222222223, 0.91, 0.9090909090909091, 0.925, 0.9384615384615385, 0.9428571428571428, 0.94, 0.94375]\n",
            "test : [0.5796, 0.59, 0.7488, 0.8389333333333333, 0.8758666666666667, 0.8824, 0.8966666666666666, 0.8885333333333333, 0.8973333333333333, 0.8968, 0.8976, 0.9001333333333333, 0.9096, 0.9105333333333333, 0.9109333333333334, 0.916]\n",
            "portion 170\n",
            "train : [0.7, 0.5114285714285713, 0.8717948717948719, 0.9538461538461538, 0.96, 0.9555555555555555, 0.95, 0.9243697478991596, 0.9282828282828284, 0.9163043478260869, 0.9186259143155695, 0.9364015444015443, 0.9448840144492319, 0.9454619454619454, 0.9430289065772935, 0.9458557702460141, 0.9453968253968255]\n",
            "test : [0.38826799846247323, 0.6221622375871547, 0.8241227068776592, 0.8702937039456762, 0.8964949465501755, 0.8971077483151306, 0.905254077534558, 0.8999297731067895, 0.9060581099281017, 0.9048696824986328, 0.9056445003896549, 0.9099612514700569, 0.9167919384898893, 0.9165538399303443, 0.9165519071635391, 0.9204313632484235, 0.9226729704905889]\n",
            "[[1375   22   52   11    0]\n",
            " [  63 1458   29    0    0]\n",
            " [  50   27 1367    6    0]\n",
            " [ 115    4  134 1159   59]\n",
            " [  16    4   20    0 1529]]\n",
            "time:  2.125298500061035\n",
            "train : [0.75, 0.6, 0.78, 0.9018181818181817, 0.9112820512820512, 0.9138305322128852, 0.9321241830065359, 0.9030242272347536, 0.919047619047619, 0.909713438735178, 0.9093338360985419, 0.9207899235267656, 0.9385860244480935, 0.9455687830687831, 0.9418713684632338, 0.9468129571577848, 0.9409062980030722]\n",
            "test : [0.5698624059220756, 0.5804089166592171, 0.7451767311670959, 0.8373371781984875, 0.8752441775270986, 0.8816080245706918, 0.8959088408997602, 0.8877539237911465, 0.8964477170456346, 0.8958775731913157, 0.8966863483927231, 0.8994836367897877, 0.9089318839168545, 0.9098067149832396, 0.9101126247901176, 0.9150190809743102, 0.917518009376216]\n",
            "train : [0.9, 0.8, 0.8333333333333334, 0.925, 0.94, 0.9333333333333333, 0.9428571428571428, 0.9125, 0.9222222222222223, 0.91, 0.9090909090909091, 0.925, 0.9384615384615385, 0.9428571428571428, 0.94, 0.94375, 0.9411764705882353]\n",
            "test : [0.5796, 0.59, 0.7488, 0.8389333333333333, 0.8758666666666667, 0.8824, 0.8966666666666666, 0.8885333333333333, 0.8973333333333333, 0.8968, 0.8976, 0.9001333333333333, 0.9096, 0.9105333333333333, 0.9109333333333334, 0.916, 0.9184]\n",
            "portion 180\n",
            "train : [0.7, 0.5114285714285713, 0.8717948717948719, 0.9538461538461538, 0.96, 0.9555555555555555, 0.95, 0.9243697478991596, 0.9282828282828284, 0.9163043478260869, 0.9186259143155695, 0.9364015444015443, 0.9448840144492319, 0.9454619454619454, 0.9430289065772935, 0.9458557702460141, 0.9453968253968255, 0.9408441558441558]\n",
            "test : [0.38826799846247323, 0.6221622375871547, 0.8241227068776592, 0.8702937039456762, 0.8964949465501755, 0.8971077483151306, 0.905254077534558, 0.8999297731067895, 0.9060581099281017, 0.9048696824986328, 0.9056445003896549, 0.9099612514700569, 0.9167919384898893, 0.9165538399303443, 0.9165519071635391, 0.9204313632484235, 0.9226729704905889, 0.9223358203462141]\n",
            "[[1366   31   52   11    0]\n",
            " [  46 1475   29    0    0]\n",
            " [  50   33 1361    6    0]\n",
            " [ 113    7  131 1158   62]\n",
            " [  16    4   19    0 1530]]\n",
            "time:  2.2411296367645264\n",
            "train : [0.75, 0.6, 0.78, 0.9018181818181817, 0.9112820512820512, 0.9138305322128852, 0.9321241830065359, 0.9030242272347536, 0.919047619047619, 0.909713438735178, 0.9093338360985419, 0.9207899235267656, 0.9385860244480935, 0.9455687830687831, 0.9418713684632338, 0.9468129571577848, 0.9409062980030722, 0.9389961389961389]\n",
            "test : [0.5698624059220756, 0.5804089166592171, 0.7451767311670959, 0.8373371781984875, 0.8752441775270986, 0.8816080245706918, 0.8959088408997602, 0.8877539237911465, 0.8964477170456346, 0.8958775731913157, 0.8966863483927231, 0.8994836367897877, 0.9089318839168545, 0.9098067149832396, 0.9101126247901176, 0.9150190809743102, 0.917518009376216, 0.9176426026393681]\n",
            "train : [0.9, 0.8, 0.8333333333333334, 0.925, 0.94, 0.9333333333333333, 0.9428571428571428, 0.9125, 0.9222222222222223, 0.91, 0.9090909090909091, 0.925, 0.9384615384615385, 0.9428571428571428, 0.94, 0.94375, 0.9411764705882353, 0.9388888888888889]\n",
            "test : [0.5796, 0.59, 0.7488, 0.8389333333333333, 0.8758666666666667, 0.8824, 0.8966666666666666, 0.8885333333333333, 0.8973333333333333, 0.8968, 0.8976, 0.9001333333333333, 0.9096, 0.9105333333333333, 0.9109333333333334, 0.916, 0.9184, 0.9186666666666666]\n",
            "portion 190\n",
            "train : [0.7, 0.5114285714285713, 0.8717948717948719, 0.9538461538461538, 0.96, 0.9555555555555555, 0.95, 0.9243697478991596, 0.9282828282828284, 0.9163043478260869, 0.9186259143155695, 0.9364015444015443, 0.9448840144492319, 0.9454619454619454, 0.9430289065772935, 0.9458557702460141, 0.9453968253968255, 0.9408441558441558, 0.9357299843014129]\n",
            "test : [0.38826799846247323, 0.6221622375871547, 0.8241227068776592, 0.8702937039456762, 0.8964949465501755, 0.8971077483151306, 0.905254077534558, 0.8999297731067895, 0.9060581099281017, 0.9048696824986328, 0.9056445003896549, 0.9099612514700569, 0.9167919384898893, 0.9165538399303443, 0.9165519071635391, 0.9204313632484235, 0.9226729704905889, 0.9223358203462141, 0.9223451470741912]\n",
            "[[1374   27   48   10    1]\n",
            " [  45 1476   29    0    0]\n",
            " [  51   34 1359    6    0]\n",
            " [ 118    4  127 1150   72]\n",
            " [  16    4   19    0 1530]]\n",
            "time:  2.3268473148345947\n",
            "train : [0.75, 0.6, 0.78, 0.9018181818181817, 0.9112820512820512, 0.9138305322128852, 0.9321241830065359, 0.9030242272347536, 0.919047619047619, 0.909713438735178, 0.9093338360985419, 0.9207899235267656, 0.9385860244480935, 0.9455687830687831, 0.9418713684632338, 0.9468129571577848, 0.9409062980030722, 0.9389961389961389, 0.9309959570935181]\n",
            "test : [0.5698624059220756, 0.5804089166592171, 0.7451767311670959, 0.8373371781984875, 0.8752441775270986, 0.8816080245706918, 0.8959088408997602, 0.8877539237911465, 0.8964477170456346, 0.8958775731913157, 0.8966863483927231, 0.8994836367897877, 0.9089318839168545, 0.9098067149832396, 0.9101126247901176, 0.9150190809743102, 0.917518009376216, 0.9176426026393681, 0.9175039677941508]\n",
            "train : [0.9, 0.8, 0.8333333333333334, 0.925, 0.94, 0.9333333333333333, 0.9428571428571428, 0.9125, 0.9222222222222223, 0.91, 0.9090909090909091, 0.925, 0.9384615384615385, 0.9428571428571428, 0.94, 0.94375, 0.9411764705882353, 0.9388888888888889, 0.9315789473684211]\n",
            "test : [0.5796, 0.59, 0.7488, 0.8389333333333333, 0.8758666666666667, 0.8824, 0.8966666666666666, 0.8885333333333333, 0.8973333333333333, 0.8968, 0.8976, 0.9001333333333333, 0.9096, 0.9105333333333333, 0.9109333333333334, 0.916, 0.9184, 0.9186666666666666, 0.9185333333333333]\n",
            "portion 200\n",
            "train : [0.7, 0.5114285714285713, 0.8717948717948719, 0.9538461538461538, 0.96, 0.9555555555555555, 0.95, 0.9243697478991596, 0.9282828282828284, 0.9163043478260869, 0.9186259143155695, 0.9364015444015443, 0.9448840144492319, 0.9454619454619454, 0.9430289065772935, 0.9458557702460141, 0.9453968253968255, 0.9408441558441558, 0.9357299843014129, 0.9400264321933326]\n",
            "test : [0.38826799846247323, 0.6221622375871547, 0.8241227068776592, 0.8702937039456762, 0.8964949465501755, 0.8971077483151306, 0.905254077534558, 0.8999297731067895, 0.9060581099281017, 0.9048696824986328, 0.9056445003896549, 0.9099612514700569, 0.9167919384898893, 0.9165538399303443, 0.9165519071635391, 0.9204313632484235, 0.9226729704905889, 0.9223358203462141, 0.9223451470741912, 0.9243616677058725]\n",
            "[[1380   25   44   10    1]\n",
            " [  40 1481   29    0    0]\n",
            " [  50   31 1363    6    0]\n",
            " [ 120    4  124 1151   72]\n",
            " [  16    4   19    0 1530]]\n",
            "time:  2.350355386734009\n",
            "train : [0.75, 0.6, 0.78, 0.9018181818181817, 0.9112820512820512, 0.9138305322128852, 0.9321241830065359, 0.9030242272347536, 0.919047619047619, 0.909713438735178, 0.9093338360985419, 0.9207899235267656, 0.9385860244480935, 0.9455687830687831, 0.9418713684632338, 0.9468129571577848, 0.9409062980030722, 0.9389961389961389, 0.9309959570935181, 0.933183358195589]\n",
            "test : [0.5698624059220756, 0.5804089166592171, 0.7451767311670959, 0.8373371781984875, 0.8752441775270986, 0.8816080245706918, 0.8959088408997602, 0.8877539237911465, 0.8964477170456346, 0.8958775731913157, 0.8966863483927231, 0.8994836367897877, 0.9089318839168545, 0.9098067149832396, 0.9101126247901176, 0.9150190809743102, 0.917518009376216, 0.9176426026393681, 0.9175039677941508, 0.9196587329612829]\n",
            "train : [0.9, 0.8, 0.8333333333333334, 0.925, 0.94, 0.9333333333333333, 0.9428571428571428, 0.9125, 0.9222222222222223, 0.91, 0.9090909090909091, 0.925, 0.9384615384615385, 0.9428571428571428, 0.94, 0.94375, 0.9411764705882353, 0.9388888888888889, 0.9315789473684211, 0.935]\n",
            "test : [0.5796, 0.59, 0.7488, 0.8389333333333333, 0.8758666666666667, 0.8824, 0.8966666666666666, 0.8885333333333333, 0.8973333333333333, 0.8968, 0.8976, 0.9001333333333333, 0.9096, 0.9105333333333333, 0.9109333333333334, 0.916, 0.9184, 0.9186666666666666, 0.9185333333333333, 0.9206666666666666]\n",
            "portion 210\n",
            "train : [0.7, 0.5114285714285713, 0.8717948717948719, 0.9538461538461538, 0.96, 0.9555555555555555, 0.95, 0.9243697478991596, 0.9282828282828284, 0.9163043478260869, 0.9186259143155695, 0.9364015444015443, 0.9448840144492319, 0.9454619454619454, 0.9430289065772935, 0.9458557702460141, 0.9453968253968255, 0.9408441558441558, 0.9357299843014129, 0.9400264321933326, 0.9420163170163169]\n",
            "test : [0.38826799846247323, 0.6221622375871547, 0.8241227068776592, 0.8702937039456762, 0.8964949465501755, 0.8971077483151306, 0.905254077534558, 0.8999297731067895, 0.9060581099281017, 0.9048696824986328, 0.9056445003896549, 0.9099612514700569, 0.9167919384898893, 0.9165538399303443, 0.9165519071635391, 0.9204313632484235, 0.9226729704905889, 0.9223358203462141, 0.9223451470741912, 0.9243616677058725, 0.9247833381392733]\n",
            "[[1379   25   45   10    1]\n",
            " [  39 1482   29    0    0]\n",
            " [  50   31 1363    6    0]\n",
            " [ 118    4  120 1157   72]\n",
            " [  16    4   21    0 1528]]\n",
            "time:  2.396498918533325\n",
            "train : [0.75, 0.6, 0.78, 0.9018181818181817, 0.9112820512820512, 0.9138305322128852, 0.9321241830065359, 0.9030242272347536, 0.919047619047619, 0.909713438735178, 0.9093338360985419, 0.9207899235267656, 0.9385860244480935, 0.9455687830687831, 0.9418713684632338, 0.9468129571577848, 0.9409062980030722, 0.9389961389961389, 0.9309959570935181, 0.933183358195589, 0.936901763600012]\n",
            "test : [0.5698624059220756, 0.5804089166592171, 0.7451767311670959, 0.8373371781984875, 0.8752441775270986, 0.8816080245706918, 0.8959088408997602, 0.8877539237911465, 0.8964477170456346, 0.8958775731913157, 0.8966863483927231, 0.8994836367897877, 0.9089318839168545, 0.9098067149832396, 0.9101126247901176, 0.9150190809743102, 0.917518009376216, 0.9176426026393681, 0.9175039677941508, 0.9196587329612829, 0.9202116110500539]\n",
            "train : [0.9, 0.8, 0.8333333333333334, 0.925, 0.94, 0.9333333333333333, 0.9428571428571428, 0.9125, 0.9222222222222223, 0.91, 0.9090909090909091, 0.925, 0.9384615384615385, 0.9428571428571428, 0.94, 0.94375, 0.9411764705882353, 0.9388888888888889, 0.9315789473684211, 0.935, 0.9380952380952381]\n",
            "test : [0.5796, 0.59, 0.7488, 0.8389333333333333, 0.8758666666666667, 0.8824, 0.8966666666666666, 0.8885333333333333, 0.8973333333333333, 0.8968, 0.8976, 0.9001333333333333, 0.9096, 0.9105333333333333, 0.9109333333333334, 0.916, 0.9184, 0.9186666666666666, 0.9185333333333333, 0.9206666666666666, 0.9212]\n",
            "portion 220\n",
            "train : [0.7, 0.5114285714285713, 0.8717948717948719, 0.9538461538461538, 0.96, 0.9555555555555555, 0.95, 0.9243697478991596, 0.9282828282828284, 0.9163043478260869, 0.9186259143155695, 0.9364015444015443, 0.9448840144492319, 0.9454619454619454, 0.9430289065772935, 0.9458557702460141, 0.9453968253968255, 0.9408441558441558, 0.9357299843014129, 0.9400264321933326, 0.9420163170163169, 0.9448915060095185]\n",
            "test : [0.38826799846247323, 0.6221622375871547, 0.8241227068776592, 0.8702937039456762, 0.8964949465501755, 0.8971077483151306, 0.905254077534558, 0.8999297731067895, 0.9060581099281017, 0.9048696824986328, 0.9056445003896549, 0.9099612514700569, 0.9167919384898893, 0.9165538399303443, 0.9165519071635391, 0.9204313632484235, 0.9226729704905889, 0.9223358203462141, 0.9223451470741912, 0.9243616677058725, 0.9247833381392733, 0.9247933579970781]\n",
            "[[1380   25   45    9    1]\n",
            " [  40 1481   29    0    0]\n",
            " [  66   30 1349    5    0]\n",
            " [ 130    4  101 1164   72]\n",
            " [  15    4   16    0 1534]]\n",
            "time:  2.4765143394470215\n",
            "train : [0.75, 0.6, 0.78, 0.9018181818181817, 0.9112820512820512, 0.9138305322128852, 0.9321241830065359, 0.9030242272347536, 0.919047619047619, 0.909713438735178, 0.9093338360985419, 0.9207899235267656, 0.9385860244480935, 0.9455687830687831, 0.9418713684632338, 0.9468129571577848, 0.9409062980030722, 0.9389961389961389, 0.9309959570935181, 0.933183358195589, 0.936901763600012, 0.9398577612863328]\n",
            "test : [0.5698624059220756, 0.5804089166592171, 0.7451767311670959, 0.8373371781984875, 0.8752441775270986, 0.8816080245706918, 0.8959088408997602, 0.8877539237911465, 0.8964477170456346, 0.8958775731913157, 0.8966863483927231, 0.8994836367897877, 0.9089318839168545, 0.9098067149832396, 0.9101126247901176, 0.9150190809743102, 0.917518009376216, 0.9176426026393681, 0.9175039677941508, 0.9196587329612829, 0.9202116110500539, 0.9200050824808571]\n",
            "train : [0.9, 0.8, 0.8333333333333334, 0.925, 0.94, 0.9333333333333333, 0.9428571428571428, 0.9125, 0.9222222222222223, 0.91, 0.9090909090909091, 0.925, 0.9384615384615385, 0.9428571428571428, 0.94, 0.94375, 0.9411764705882353, 0.9388888888888889, 0.9315789473684211, 0.935, 0.9380952380952381, 0.9409090909090909]\n",
            "test : [0.5796, 0.59, 0.7488, 0.8389333333333333, 0.8758666666666667, 0.8824, 0.8966666666666666, 0.8885333333333333, 0.8973333333333333, 0.8968, 0.8976, 0.9001333333333333, 0.9096, 0.9105333333333333, 0.9109333333333334, 0.916, 0.9184, 0.9186666666666666, 0.9185333333333333, 0.9206666666666666, 0.9212, 0.9210666666666667]\n",
            "portion 230\n",
            "train : [0.7, 0.5114285714285713, 0.8717948717948719, 0.9538461538461538, 0.96, 0.9555555555555555, 0.95, 0.9243697478991596, 0.9282828282828284, 0.9163043478260869, 0.9186259143155695, 0.9364015444015443, 0.9448840144492319, 0.9454619454619454, 0.9430289065772935, 0.9458557702460141, 0.9453968253968255, 0.9408441558441558, 0.9357299843014129, 0.9400264321933326, 0.9420163170163169, 0.9448915060095185, 0.9412611063674893]\n",
            "test : [0.38826799846247323, 0.6221622375871547, 0.8241227068776592, 0.8702937039456762, 0.8964949465501755, 0.8971077483151306, 0.905254077534558, 0.8999297731067895, 0.9060581099281017, 0.9048696824986328, 0.9056445003896549, 0.9099612514700569, 0.9167919384898893, 0.9165538399303443, 0.9165519071635391, 0.9204313632484235, 0.9226729704905889, 0.9223358203462141, 0.9223451470741912, 0.9243616677058725, 0.9247833381392733, 0.9247933579970781, 0.9272613035590782]\n",
            "[[1375   25   50    9    1]\n",
            " [  35 1485   30    0    0]\n",
            " [  50   30 1365    5    0]\n",
            " [ 104    4  133 1158   72]\n",
            " [   4    1   18    0 1546]]\n",
            "time:  2.5002946853637695\n",
            "train : [0.75, 0.6, 0.78, 0.9018181818181817, 0.9112820512820512, 0.9138305322128852, 0.9321241830065359, 0.9030242272347536, 0.919047619047619, 0.909713438735178, 0.9093338360985419, 0.9207899235267656, 0.9385860244480935, 0.9455687830687831, 0.9418713684632338, 0.9468129571577848, 0.9409062980030722, 0.9389961389961389, 0.9309959570935181, 0.933183358195589, 0.936901763600012, 0.9398577612863328, 0.9384442476819201]\n",
            "test : [0.5698624059220756, 0.5804089166592171, 0.7451767311670959, 0.8373371781984875, 0.8752441775270986, 0.8816080245706918, 0.8959088408997602, 0.8877539237911465, 0.8964477170456346, 0.8958775731913157, 0.8966863483927231, 0.8994836367897877, 0.9089318839168545, 0.9098067149832396, 0.9101126247901176, 0.9150190809743102, 0.917518009376216, 0.9176426026393681, 0.9175039677941508, 0.9196587329612829, 0.9202116110500539, 0.9200050824808571, 0.9227570416853146]\n",
            "train : [0.9, 0.8, 0.8333333333333334, 0.925, 0.94, 0.9333333333333333, 0.9428571428571428, 0.9125, 0.9222222222222223, 0.91, 0.9090909090909091, 0.925, 0.9384615384615385, 0.9428571428571428, 0.94, 0.94375, 0.9411764705882353, 0.9388888888888889, 0.9315789473684211, 0.935, 0.9380952380952381, 0.9409090909090909, 0.9391304347826087]\n",
            "test : [0.5796, 0.59, 0.7488, 0.8389333333333333, 0.8758666666666667, 0.8824, 0.8966666666666666, 0.8885333333333333, 0.8973333333333333, 0.8968, 0.8976, 0.9001333333333333, 0.9096, 0.9105333333333333, 0.9109333333333334, 0.916, 0.9184, 0.9186666666666666, 0.9185333333333333, 0.9206666666666666, 0.9212, 0.9210666666666667, 0.9238666666666666]\n",
            "portion 240\n",
            "train : [0.7, 0.5114285714285713, 0.8717948717948719, 0.9538461538461538, 0.96, 0.9555555555555555, 0.95, 0.9243697478991596, 0.9282828282828284, 0.9163043478260869, 0.9186259143155695, 0.9364015444015443, 0.9448840144492319, 0.9454619454619454, 0.9430289065772935, 0.9458557702460141, 0.9453968253968255, 0.9408441558441558, 0.9357299843014129, 0.9400264321933326, 0.9420163170163169, 0.9448915060095185, 0.9412611063674893, 0.9434863820390136]\n",
            "test : [0.38826799846247323, 0.6221622375871547, 0.8241227068776592, 0.8702937039456762, 0.8964949465501755, 0.8971077483151306, 0.905254077534558, 0.8999297731067895, 0.9060581099281017, 0.9048696824986328, 0.9056445003896549, 0.9099612514700569, 0.9167919384898893, 0.9165538399303443, 0.9165519071635391, 0.9204313632484235, 0.9226729704905889, 0.9223358203462141, 0.9223451470741912, 0.9243616677058725, 0.9247833381392733, 0.9247933579970781, 0.9272613035590782, 0.9284009954775024]\n",
            "[[1375   25   50    9    1]\n",
            " [  35 1485   30    0    0]\n",
            " [  49   30 1366    5    0]\n",
            " [ 105    4  136 1166   60]\n",
            " [   4    1   18    0 1546]]\n",
            "time:  2.5893335342407227\n",
            "train : [0.75, 0.6, 0.78, 0.9018181818181817, 0.9112820512820512, 0.9138305322128852, 0.9321241830065359, 0.9030242272347536, 0.919047619047619, 0.909713438735178, 0.9093338360985419, 0.9207899235267656, 0.9385860244480935, 0.9455687830687831, 0.9418713684632338, 0.9468129571577848, 0.9409062980030722, 0.9389961389961389, 0.9309959570935181, 0.933183358195589, 0.936901763600012, 0.9398577612863328, 0.9384442476819201, 0.9419662309368192]\n",
            "test : [0.5698624059220756, 0.5804089166592171, 0.7451767311670959, 0.8373371781984875, 0.8752441775270986, 0.8816080245706918, 0.8959088408997602, 0.8877539237911465, 0.8964477170456346, 0.8958775731913157, 0.8966863483927231, 0.8994836367897877, 0.9089318839168545, 0.9098067149832396, 0.9101126247901176, 0.9150190809743102, 0.917518009376216, 0.9176426026393681, 0.9175039677941508, 0.9196587329612829, 0.9202116110500539, 0.9200050824808571, 0.9227570416853146, 0.9239826681650726]\n",
            "train : [0.9, 0.8, 0.8333333333333334, 0.925, 0.94, 0.9333333333333333, 0.9428571428571428, 0.9125, 0.9222222222222223, 0.91, 0.9090909090909091, 0.925, 0.9384615384615385, 0.9428571428571428, 0.94, 0.94375, 0.9411764705882353, 0.9388888888888889, 0.9315789473684211, 0.935, 0.9380952380952381, 0.9409090909090909, 0.9391304347826087, 0.9416666666666667]\n",
            "test : [0.5796, 0.59, 0.7488, 0.8389333333333333, 0.8758666666666667, 0.8824, 0.8966666666666666, 0.8885333333333333, 0.8973333333333333, 0.8968, 0.8976, 0.9001333333333333, 0.9096, 0.9105333333333333, 0.9109333333333334, 0.916, 0.9184, 0.9186666666666666, 0.9185333333333333, 0.9206666666666666, 0.9212, 0.9210666666666667, 0.9238666666666666, 0.9250666666666667]\n"
          ],
          "name": "stdout"
        }
      ]
    },
    {
      "metadata": {
        "id": "luePEy0eqsf3",
        "colab_type": "code",
        "outputId": "536fd158-5899-4465-96af-40ba4ff81746",
        "colab": {
          "base_uri": "https://localhost:8080/",
          "height": 122
        }
      },
      "cell_type": "code",
      "source": [
        "from google.colab import drive\n",
        "drive.mount('drive')"
      ],
      "execution_count": 0,
      "outputs": [
        {
          "output_type": "stream",
          "text": [
            "Go to this URL in a browser: https://accounts.google.com/o/oauth2/auth?client_id=947318989803-6bn6qk8qdgf4n4g3pfee6491hc0brc4i.apps.googleusercontent.com&redirect_uri=urn%3Aietf%3Awg%3Aoauth%3A2.0%3Aoob&scope=email%20https%3A%2F%2Fwww.googleapis.com%2Fauth%2Fdocs.test%20https%3A%2F%2Fwww.googleapis.com%2Fauth%2Fdrive%20https%3A%2F%2Fwww.googleapis.com%2Fauth%2Fdrive.photos.readonly%20https%3A%2F%2Fwww.googleapis.com%2Fauth%2Fpeopleapi.readonly&response_type=code\n",
            "\n",
            "Enter your authorization code:\n",
            "··········\n",
            "Mounted at drive\n"
          ],
          "name": "stdout"
        }
      ]
    },
    {
      "metadata": {
        "id": "OGUpD202rASZ",
        "colab_type": "code",
        "colab": {}
      },
      "cell_type": "code",
      "source": [
        "import numpy as np\n",
        "np.savetxt(\"test_acc_fashion_knn_portions.csv\", test_acc, delimiter=\",\", fmt='%s')\n",
        "np.savetxt(\"test_recall_fashion.csv\",test_recall , delimiter=\",\", fmt='%s')\n",
        "np.savetxt(\"test_precision_fashion.csv\", test_precision, delimiter=\",\", fmt='%s')"
      ],
      "execution_count": 0,
      "outputs": []
    },
    {
      "metadata": {
        "id": "lk3AOm63rivH",
        "colab_type": "code",
        "colab": {}
      },
      "cell_type": "code",
      "source": [
        "!cp test_acc_fashion_knn_portions.csv drive/My\\ Drive/\n",
        "!cp test_recall_fashion.csv drive/My\\ Drive/\n",
        "!cp test_precision_fashion.csv drive/My\\ Drive/"
      ],
      "execution_count": 0,
      "outputs": []
    },
    {
      "metadata": {
        "id": "JLSzbtZS17jG",
        "colab_type": "code",
        "outputId": "beb81cdd-4182-49d0-96e1-ee526939fd8d",
        "colab": {
          "base_uri": "https://localhost:8080/",
          "height": 376
        }
      },
      "cell_type": "code",
      "source": [
        "import matplotlib.pyplot as plt\n",
        "plt.figure()\n",
        "plt.title('Fashion KNN: Precision, Recall, Accuracy vs Training Size')\n",
        "#plt.ylim((0,1))\n",
        "ps = portions\n",
        "plt.plot(ps, list(train_acc), '-',  label='train accuracy', color='pink')#\n",
        "plt.plot(ps, list(train_recall), 'x', color='green', label='train recall', linestyle=':')\n",
        "plt.plot(ps, list(train_precision), 'o-', color='blue', label='test precision')\n",
        "\n",
        "plt.plot(ps, list(test_acc), '-', color='indigo',  label='test accuracy')\n",
        "plt.plot(ps, list(test_recall), color='orange',  label='test recall',linestyle=':')\n",
        "plt.plot(ps, list(test_precision),'o-',  color='red',  label='test precision')\n",
        "plt.xlabel(\"Number of Training Examples\")\n",
        "\n",
        "#plt.plot(ks, list(test_recall), 'x',color='orange', label='test recall', linestyle=':')\n",
        "\n",
        "#plt.errorbar(depth, list(cross_val_acc_avg),yerr=list(cross_val_acc_std), fmt='r', label='cross validation error')\n",
        "plt.savefig('precision_recall_knn_fashion')\n",
        "plt.legend()\n",
        "plt.show()"
      ],
      "execution_count": 0,
      "outputs": [
        {
          "output_type": "display_data",
          "data": {
            "image/png": "[encoded data removed]",
            "text/plain": [
              "<Figure size 576x396 with 1 Axes>"
            ]
          },
          "metadata": {
            "tags": []
          }
        }
      ]
    },
    {
      "metadata": {
        "id": "YYcyZgQTKIG6",
        "colab_type": "code",
        "outputId": "8ae18a0b-65a9-45d0-f63c-1e6b59d1b573",
        "colab": {
          "base_uri": "https://localhost:8080/",
          "height": 164
        }
      },
      "cell_type": "code",
      "source": [
        "test_acc"
      ],
      "execution_count": 0,
      "outputs": [
        {
          "output_type": "error",
          "ename": "NameError",
          "evalue": "ignored",
          "traceback": [
            "\u001b[0;31m---------------------------------------------------------------------------\u001b[0m",
            "\u001b[0;31mNameError\u001b[0m                                 Traceback (most recent call last)",
            "\u001b[0;32m<ipython-input-1-e353d36b41a4>\u001b[0m in \u001b[0;36m<module>\u001b[0;34m()\u001b[0m\n\u001b[0;32m----> 1\u001b[0;31m \u001b[0mtest_acc\u001b[0m\u001b[0;34m\u001b[0m\u001b[0;34m\u001b[0m\u001b[0m\n\u001b[0m",
            "\u001b[0;31mNameError\u001b[0m: name 'test_acc' is not defined"
          ]
        }
      ]
    },
    {
      "metadata": {
        "id": "GSw2V1x1EiZv",
        "colab_type": "code",
        "outputId": "3cc809df-5980-43fc-e39d-1524ae406e2e",
        "colab": {
          "base_uri": "https://localhost:8080/",
          "height": 376
        }
      },
      "cell_type": "code",
      "source": [
        "ks = range(1,21)\n",
        "time=[131.29812097549438,433.55855226516724,465.6889326572418,482.72881031036377, 495.80009269714355,\n",
        "     503.52401661872864,512.1269090175629,526.9952638149261,532.2162342071533,543.5321614742279,555.3287901878357,\n",
        "     555.3287901878357,558.0933947563171,563.291341304779,568.8319599628448,573.6616265773773,574.3233530521393,580.1044759750366,\n",
        "     577.7339322566986,588.4632771015167]\n",
        "plt.figure();\n",
        "plt.plot(ks, time, '-',  label='train accuracy', color='purple')#\n",
        "plt.title('Time in Seconds vs. K');\n",
        "plt.xlabel(\"Number of K\");\n",
        "#plt.ylabel('Time in Seconds');\n",
        "\n",
        "\n",
        "\n",
        "#plt.ylim((0,1))\n"
      ],
      "execution_count": 0,
      "outputs": [
        {
          "output_type": "display_data",
          "data": {
            "image/png": "[encoded data removed]",
            "text/plain": [
              "<Figure size 576x396 with 1 Axes>"
            ]
          },
          "metadata": {
            "tags": []
          }
        }
      ]
    },
    {
      "metadata": {
        "id": "lWJy3IO3FjUz",
        "colab_type": "code",
        "colab": {}
      },
      "cell_type": "code",
      "source": [
        ""
      ],
      "execution_count": 0,
      "outputs": []
    }
  ]
}