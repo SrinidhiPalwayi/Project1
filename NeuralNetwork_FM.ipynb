{
 "cells": [
  {
   "cell_type": "code",
   "execution_count": 1,
   "metadata": {},
   "outputs": [],
   "source": [
    "from sklearn.neural_network import MLPClassifier\n",
    "from sklearn.metrics import balanced_accuracy_score,f1_score, accuracy_score, precision_score, recall_score\n",
    "import time"
   ]
  },
  {
   "cell_type": "code",
   "execution_count": 2,
   "metadata": {},
   "outputs": [],
   "source": [
    "import numpy as np\n",
    "import pandas as pd\n",
    "#df = pd.read_csv('data/breast_cancer.csv', delimiter=',', quotechar='\"')\n",
    "df = pd.read_csv('data/fashion_half.csv', delimiter=',', quotechar='\"')"
   ]
  },
  {
   "cell_type": "code",
   "execution_count": 3,
   "metadata": {},
   "outputs": [
    {
     "data": {
      "text/html": [
       "<div>\n",
       "<style scoped>\n",
       "    .dataframe tbody tr th:only-of-type {\n",
       "        vertical-align: middle;\n",
       "    }\n",
       "\n",
       "    .dataframe tbody tr th {\n",
       "        vertical-align: top;\n",
       "    }\n",
       "\n",
       "    .dataframe thead th {\n",
       "        text-align: right;\n",
       "    }\n",
       "</style>\n",
       "<table border=\"1\" class=\"dataframe\">\n",
       "  <thead>\n",
       "    <tr style=\"text-align: right;\">\n",
       "      <th></th>\n",
       "      <th>Unnamed: 0</th>\n",
       "      <th>label</th>\n",
       "      <th>pixel1</th>\n",
       "      <th>pixel2</th>\n",
       "      <th>pixel3</th>\n",
       "      <th>pixel4</th>\n",
       "      <th>pixel5</th>\n",
       "      <th>pixel6</th>\n",
       "      <th>pixel7</th>\n",
       "      <th>pixel8</th>\n",
       "      <th>...</th>\n",
       "      <th>pixel775</th>\n",
       "      <th>pixel776</th>\n",
       "      <th>pixel777</th>\n",
       "      <th>pixel778</th>\n",
       "      <th>pixel779</th>\n",
       "      <th>pixel780</th>\n",
       "      <th>pixel781</th>\n",
       "      <th>pixel782</th>\n",
       "      <th>pixel783</th>\n",
       "      <th>pixel784</th>\n",
       "    </tr>\n",
       "  </thead>\n",
       "  <tbody>\n",
       "    <tr>\n",
       "      <th>0</th>\n",
       "      <td>1</td>\n",
       "      <td>9</td>\n",
       "      <td>0</td>\n",
       "      <td>0</td>\n",
       "      <td>0</td>\n",
       "      <td>0</td>\n",
       "      <td>0</td>\n",
       "      <td>0</td>\n",
       "      <td>0</td>\n",
       "      <td>0</td>\n",
       "      <td>...</td>\n",
       "      <td>0</td>\n",
       "      <td>0</td>\n",
       "      <td>0</td>\n",
       "      <td>0</td>\n",
       "      <td>0</td>\n",
       "      <td>0</td>\n",
       "      <td>0</td>\n",
       "      <td>0</td>\n",
       "      <td>0</td>\n",
       "      <td>0</td>\n",
       "    </tr>\n",
       "    <tr>\n",
       "      <th>1</th>\n",
       "      <td>3</td>\n",
       "      <td>0</td>\n",
       "      <td>0</td>\n",
       "      <td>0</td>\n",
       "      <td>0</td>\n",
       "      <td>1</td>\n",
       "      <td>2</td>\n",
       "      <td>0</td>\n",
       "      <td>0</td>\n",
       "      <td>0</td>\n",
       "      <td>...</td>\n",
       "      <td>3</td>\n",
       "      <td>0</td>\n",
       "      <td>0</td>\n",
       "      <td>0</td>\n",
       "      <td>0</td>\n",
       "      <td>1</td>\n",
       "      <td>0</td>\n",
       "      <td>0</td>\n",
       "      <td>0</td>\n",
       "      <td>0</td>\n",
       "    </tr>\n",
       "    <tr>\n",
       "      <th>2</th>\n",
       "      <td>5</td>\n",
       "      <td>4</td>\n",
       "      <td>0</td>\n",
       "      <td>0</td>\n",
       "      <td>0</td>\n",
       "      <td>5</td>\n",
       "      <td>4</td>\n",
       "      <td>5</td>\n",
       "      <td>5</td>\n",
       "      <td>3</td>\n",
       "      <td>...</td>\n",
       "      <td>7</td>\n",
       "      <td>8</td>\n",
       "      <td>7</td>\n",
       "      <td>4</td>\n",
       "      <td>3</td>\n",
       "      <td>7</td>\n",
       "      <td>5</td>\n",
       "      <td>0</td>\n",
       "      <td>0</td>\n",
       "      <td>0</td>\n",
       "    </tr>\n",
       "    <tr>\n",
       "      <th>3</th>\n",
       "      <td>6</td>\n",
       "      <td>4</td>\n",
       "      <td>0</td>\n",
       "      <td>0</td>\n",
       "      <td>0</td>\n",
       "      <td>0</td>\n",
       "      <td>0</td>\n",
       "      <td>0</td>\n",
       "      <td>0</td>\n",
       "      <td>0</td>\n",
       "      <td>...</td>\n",
       "      <td>14</td>\n",
       "      <td>0</td>\n",
       "      <td>0</td>\n",
       "      <td>0</td>\n",
       "      <td>0</td>\n",
       "      <td>0</td>\n",
       "      <td>0</td>\n",
       "      <td>0</td>\n",
       "      <td>0</td>\n",
       "      <td>0</td>\n",
       "    </tr>\n",
       "    <tr>\n",
       "      <th>4</th>\n",
       "      <td>8</td>\n",
       "      <td>4</td>\n",
       "      <td>0</td>\n",
       "      <td>0</td>\n",
       "      <td>0</td>\n",
       "      <td>0</td>\n",
       "      <td>0</td>\n",
       "      <td>0</td>\n",
       "      <td>3</td>\n",
       "      <td>2</td>\n",
       "      <td>...</td>\n",
       "      <td>1</td>\n",
       "      <td>0</td>\n",
       "      <td>0</td>\n",
       "      <td>0</td>\n",
       "      <td>0</td>\n",
       "      <td>0</td>\n",
       "      <td>0</td>\n",
       "      <td>0</td>\n",
       "      <td>0</td>\n",
       "      <td>0</td>\n",
       "    </tr>\n",
       "  </tbody>\n",
       "</table>\n",
       "<p>5 rows × 786 columns</p>\n",
       "</div>"
      ],
      "text/plain": [
       "   Unnamed: 0  label  pixel1  pixel2  pixel3  pixel4  pixel5  pixel6  pixel7  \\\n",
       "0           1      9       0       0       0       0       0       0       0   \n",
       "1           3      0       0       0       0       1       2       0       0   \n",
       "2           5      4       0       0       0       5       4       5       5   \n",
       "3           6      4       0       0       0       0       0       0       0   \n",
       "4           8      4       0       0       0       0       0       0       3   \n",
       "\n",
       "   pixel8  ...  pixel775  pixel776  pixel777  pixel778  pixel779  pixel780  \\\n",
       "0       0  ...         0         0         0         0         0         0   \n",
       "1       0  ...         3         0         0         0         0         1   \n",
       "2       3  ...         7         8         7         4         3         7   \n",
       "3       0  ...        14         0         0         0         0         0   \n",
       "4       2  ...         1         0         0         0         0         0   \n",
       "\n",
       "   pixel781  pixel782  pixel783  pixel784  \n",
       "0         0         0         0         0  \n",
       "1         0         0         0         0  \n",
       "2         5         0         0         0  \n",
       "3         0         0         0         0  \n",
       "4         0         0         0         0  \n",
       "\n",
       "[5 rows x 786 columns]"
      ]
     },
     "execution_count": 3,
     "metadata": {},
     "output_type": "execute_result"
    }
   ],
   "source": [
    "df.head()"
   ]
  },
  {
   "cell_type": "code",
   "execution_count": 3,
   "metadata": {},
   "outputs": [],
   "source": [
    "features = df.loc[:,\"pixel1\":\"pixel784\"]\n"
   ]
  },
  {
   "cell_type": "code",
   "execution_count": 4,
   "metadata": {},
   "outputs": [],
   "source": [
    "from sklearn.model_selection import train_test_split\n",
    "X_train, X_test, y_train, y_test = train_test_split(features, df[\"label\"], test_size=0.25)\n"
   ]
  },
  {
   "cell_type": "code",
   "execution_count": 6,
   "metadata": {},
   "outputs": [
    {
     "name": "stdout",
     "output_type": "stream",
     "text": [
      "0\n",
      "1\n",
      "2\n",
      "3\n",
      "4\n",
      "5\n",
      "6\n",
      "7\n",
      "8\n",
      "9\n",
      "10\n",
      "11\n",
      "12\n",
      "13\n",
      "14\n",
      "15\n",
      "16\n",
      "17\n",
      "18\n",
      "19\n"
     ]
    }
   ],
   "source": [
    "#change the number of hidden layers\n",
    "num_layers = range(0,20)\n",
    "\n",
    "train_acc = []\n",
    "test_acc = []\n",
    "\n",
    "\n",
    "for i in num_layers:\n",
    "    print(i)\n",
    "    hidden_layer = tuple([15]*i)\n",
    "    est = MLPClassifier(activation='relu', alpha=0.0001, batch_size='auto', beta_1=0.9,\n",
    "           beta_2=0.999, epsilon=1e-08,\n",
    "           hidden_layer_sizes=hidden_layer, learning_rate='constant',\n",
    "           learning_rate_init=0.001, max_iter=550, momentum=0.9,\n",
    "           nesterovs_momentum=True, random_state=None,\n",
    "           shuffle=True, solver='adam', tol=1e-4, validation_fraction=0.1, warm_start=True)\n",
    "    est.fit(X_train, y_train)\n",
    "    train_acc.append((accuracy_score(y_train, est.predict(X_train))))\n",
    "    test_acc.append((accuracy_score(y_test, est.predict(X_test))))\n",
    "\n",
    "\n",
    "    \n",
    "   "
   ]
  },
  {
   "cell_type": "code",
   "execution_count": 8,
   "metadata": {},
   "outputs": [
    {
     "data": {
      "image/png": "[encoded data removed]",
      "text/plain": [
       "<Figure size 432x288 with 1 Axes>"
      ]
     },
     "metadata": {
      "needs_background": "light"
     },
     "output_type": "display_data"
    }
   ],
   "source": [
    "#estimators graph\n",
    "import matplotlib.pyplot as plt\n",
    "plt.figure()\n",
    "plt.title('FM Neural Net: Accuracy vs. Number of Layers')\n",
    "#plt.ylim((0.9,1))\n",
    "ps=num_layers\n",
    "\n",
    "plt.plot(ps, list(train_acc), '-', label='train accuracy')\n",
    "plt.plot(ps, list(test_acc),linestyle='-', label='test accuracy ', color='red')\n",
    "\n",
    "\n",
    "plt.xlabel(\"Number of Layers\")\n",
    "plt.ylabel(\"Score\")\n",
    "\n",
    "plt.legend()\n",
    "plt.show()"
   ]
  },
  {
   "cell_type": "code",
   "execution_count": 73,
   "metadata": {},
   "outputs": [
    {
     "data": {
      "text/plain": [
       "[0.8431425515776653,\n",
       " 0.7640830502531438,\n",
       " 0.8865495779154005,\n",
       " 0.8446887379478369,\n",
       " 0.8328961031490103,\n",
       " 0.7768261415792519,\n",
       " 0.8956079581310409,\n",
       " 0.8946863648569281,\n",
       " 0.9133340212629337,\n",
       " 0.9032797642092397,\n",
       " 0.9186616040767005,\n",
       " 0.9151362535699988,\n",
       " 0.8988781939126824,\n",
       " 0.916190851648552,\n",
       " 0.9067519222715885]"
      ]
     },
     "execution_count": 73,
     "metadata": {},
     "output_type": "execute_result"
    }
   ],
   "source": [
    "train_precision"
   ]
  },
  {
   "cell_type": "code",
   "execution_count": 74,
   "metadata": {},
   "outputs": [
    {
     "data": {
      "text/plain": [
       "[0.8326913857969348,\n",
       " 0.7492377686458849,\n",
       " 0.8792237228585875,\n",
       " 0.846191586619287,\n",
       " 0.826235141124703,\n",
       " 0.7761421617332515,\n",
       " 0.8947089138826844,\n",
       " 0.8931724835994344,\n",
       " 0.9129145011308066,\n",
       " 0.9036915176970514,\n",
       " 0.9172409802373647,\n",
       " 0.9150353101549562,\n",
       " 0.8989178678188731,\n",
       " 0.9147829999481306,\n",
       " 0.9053850134138839]"
      ]
     },
     "execution_count": 74,
     "metadata": {},
     "output_type": "execute_result"
    }
   ],
   "source": [
    "train_recall"
   ]
  },
  {
   "cell_type": "code",
   "execution_count": 95,
   "metadata": {},
   "outputs": [
    {
     "data": {
      "text/plain": [
       "MLPClassifier(activation='relu', alpha=0.0001, batch_size='auto', beta_1=0.9,\n",
       "       beta_2=0.999, early_stopping=False, epsilon=1e-08,\n",
       "       hidden_layer_sizes=(11, 11, 11, 11, 11, 11, 11, 11, 11, 11, 11, 11, 11, 11, 11, 11, 11, 11, 11),\n",
       "       learning_rate='constant', learning_rate_init=0.001, max_iter=500,\n",
       "       momentum=0.9, n_iter_no_change=10, nesterovs_momentum=True,\n",
       "       power_t=0.5, random_state=None, shuffle=True, solver='adam',\n",
       "       tol=0.0001, validation_fraction=0.1, verbose=False,\n",
       "       warm_start=False)"
      ]
     },
     "execution_count": 95,
     "metadata": {},
     "output_type": "execute_result"
    }
   ],
   "source": [
    "mlp.fit(X_train,y_train)"
   ]
  },
  {
   "cell_type": "code",
   "execution_count": 88,
   "metadata": {},
   "outputs": [],
   "source": [
    "prediction = mlp.predict(X_test)"
   ]
  },
  {
   "cell_type": "code",
   "execution_count": 89,
   "metadata": {},
   "outputs": [
    {
     "data": {
      "text/plain": [
       "0.11888111888111888"
      ]
     },
     "execution_count": 89,
     "metadata": {},
     "output_type": "execute_result"
    }
   ],
   "source": [
    "from sklearn.metrics import balanced_accuracy_score,f1_score, accuracy_score\n",
    "accuracy_score(y_test, prediction)"
   ]
  },
  {
   "cell_type": "code",
   "execution_count": 90,
   "metadata": {},
   "outputs": [
    {
     "data": {
      "text/plain": [
       "0.20253164556962025"
      ]
     },
     "execution_count": 90,
     "metadata": {},
     "output_type": "execute_result"
    }
   ],
   "source": [
    "f1_score(y_test, prediction)"
   ]
  },
  {
   "cell_type": "code",
   "execution_count": 6,
   "metadata": {},
   "outputs": [
    {
     "name": "stdout",
     "output_type": "stream",
     "text": [
      "1\n"
     ]
    },
    {
     "name": "stderr",
     "output_type": "stream",
     "text": [
      "/usr/local/lib/python3.7/site-packages/sklearn/neural_network/multilayer_perceptron.py:562: ConvergenceWarning: Stochastic Optimizer: Maximum iterations (1) reached and the optimization hasn't converged yet.\n",
      "  % self.max_iter, ConvergenceWarning)\n"
     ]
    },
    {
     "name": "stdout",
     "output_type": "stream",
     "text": [
      "51\n"
     ]
    },
    {
     "name": "stderr",
     "output_type": "stream",
     "text": [
      "/usr/local/lib/python3.7/site-packages/sklearn/neural_network/multilayer_perceptron.py:562: ConvergenceWarning: Stochastic Optimizer: Maximum iterations (51) reached and the optimization hasn't converged yet.\n",
      "  % self.max_iter, ConvergenceWarning)\n"
     ]
    },
    {
     "name": "stdout",
     "output_type": "stream",
     "text": [
      "101\n",
      "151\n",
      "201\n",
      "251\n",
      "301\n",
      "351\n",
      "401\n",
      "451\n",
      "501\n",
      "551\n",
      "601\n",
      "651\n"
     ]
    }
   ],
   "source": [
    "from sklearn.metrics import balanced_accuracy_score,f1_score, accuracy_score\n",
    "#change the number of hidden epochs\n",
    "num_epochs = range(1,701, 50)\n",
    "\n",
    "train_acc = []\n",
    "test_acc = []\n",
    "\n",
    "\n",
    "for i in num_epochs:\n",
    "    print(i)\n",
    "    hidden_layer = tuple([15]*14)\n",
    "    mlp = MLPClassifier(activation='relu', alpha=0.0001, batch_size='auto', beta_1=0.9,\n",
    "           beta_2=0.999, epsilon=1e-08,\n",
    "           hidden_layer_sizes=hidden_layer, learning_rate='constant',\n",
    "           learning_rate_init=0.001, max_iter=i, momentum=0.9,\n",
    "           nesterovs_momentum=True, random_state=None,\n",
    "           shuffle=True, solver='adam', tol=1e-4, validation_fraction=0.1)\n",
    "    mlp.fit(X_train,y_train)\n",
    "    prediction_test = mlp.predict(X_test)\n",
    "    prediction_train = mlp.predict(X_train)\n",
    "    train_acc.append((accuracy_score(y_train, prediction_train)))\n",
    "    test_acc.append((accuracy_score(y_test, prediction_test)))\n",
    "\n",
    "  \n",
    "    \n",
    "    "
   ]
  },
  {
   "cell_type": "code",
   "execution_count": 9,
   "metadata": {},
   "outputs": [
    {
     "data": {
      "image/png": "[encoded data removed]",
      "text/plain": [
       "<Figure size 432x288 with 1 Axes>"
      ]
     },
     "metadata": {
      "needs_background": "light"
     },
     "output_type": "display_data"
    }
   ],
   "source": [
    "import matplotlib.pyplot as plt\n",
    "plt.figure()\n",
    "plt.title('Fashion MNIST Neural Network: Precision and Recall vs Number of Epochs')\n",
    "#plt.ylim((0,1))\n",
    "plt.plot(num_epochs, list(train_acc), '-', label='train accuracy')\n",
    "plt.plot(num_epochs, list(test_acc),linestyle='-', label='test accuracy ', color='red')\n",
    "plt.xlabel(\"Number of Epochs\")\n",
    "plt.ylabel(\"Score\")\n",
    "\n",
    "#plt.errorbar(depth, list(cross_val_acc_avg),yerr=list(cross_val_acc_std), fmt='r', label='cross validation error')\n",
    "plt.savefig('plots/precision_accuracy_neural_net_num_epochs_fashion')\n",
    "plt.legend()\n",
    "plt.show()\n",
    "#ideal number of layers is 2 layer"
   ]
  },
  {
   "cell_type": "code",
   "execution_count": 137,
   "metadata": {},
   "outputs": [
    {
     "data": {
      "text/plain": [
       "[0.0,\n",
       " 0.8664495114006514,\n",
       " 0.5259515570934256,\n",
       " 0.8982456140350876,\n",
       " 0.8982456140350876,\n",
       " 0.0,\n",
       " 0.3359375,\n",
       " 0.86,\n",
       " 0.5253940455341506,\n",
       " 0.9023569023569024,\n",
       " 0.89419795221843,\n",
       " 0.8896797153024911]"
      ]
     },
     "execution_count": 137,
     "metadata": {},
     "output_type": "execute_result"
    }
   ],
   "source": [
    "train_f1"
   ]
  },
  {
   "cell_type": "code",
   "execution_count": 12,
   "metadata": {},
   "outputs": [
    {
     "name": "stdout",
     "output_type": "stream",
     "text": [
      "identity\n",
      "portions=10identity\n",
      "[[1426   31   18   36   12]\n",
      " [  21 1397   17    0    8]\n",
      " [  31   31 1436   41    1]\n",
      " [  38    9   31 1380   26]\n",
      " [   1    2    1    9 1497]]\n",
      "portions=20identity\n",
      "[[1447   11   16   41    8]\n",
      " [  17 1415    6    2    3]\n",
      " [  26   12 1470   32    0]\n",
      " [  24    6   25 1408   21]\n",
      " [   1    0    0    4 1505]]\n",
      "portions=30identity\n",
      "[[1418   42   40   18    5]\n",
      " [   9 1426    6    0    2]\n",
      " [  12   25 1487   16    0]\n",
      " [  26   18   47 1385    8]\n",
      " [   0    0    0    4 1506]]\n",
      "portions=40identity\n",
      "[[1431   20   33   32    7]\n",
      " [  15 1417    4    1    6]\n",
      " [  10   12 1499   19    0]\n",
      " [  22   12   26 1412   12]\n",
      " [   0    0    0    3 1507]]\n",
      "portions=50identity\n",
      "[[1448   15   25   31    4]\n",
      " [  11 1423    7    1    1]\n",
      " [  16    7 1498   19    0]\n",
      " [  25    6   23 1423    7]\n",
      " [   0    0    0    3 1507]]\n",
      "portions=60identity\n",
      "[[1466   26    8   18    5]\n",
      " [   9 1429    1    1    3]\n",
      " [  28   21 1473   18    0]\n",
      " [  64    7   17 1383   13]\n",
      " [   1    1    0    3 1505]]\n",
      "portions=70identity\n",
      "[[1477   10    4   29    3]\n",
      " [  12 1423    7    0    1]\n",
      " [  28    4 1472   36    0]\n",
      " [  30    2   12 1435    5]\n",
      " [   0    0    0    5 1505]]\n",
      "portions=80identity\n",
      "[[1456   17    6   40    4]\n",
      " [  11 1428    4    0    0]\n",
      " [  24    9 1476   31    0]\n",
      " [  22    3   17 1433    9]\n",
      " [   0    1    0    4 1505]]\n",
      "portions=90identity\n",
      "[[1483   14    7   17    2]\n",
      " [  14 1428    1    0    0]\n",
      " [  37   22 1465   16    0]\n",
      " [  77    4   19 1376    8]\n",
      " [   0    0    0    4 1506]]\n",
      "portions=100identity\n",
      "[[1446   31   13   28    5]\n",
      " [   7 1433    0    0    3]\n",
      " [  21   21 1483   15    0]\n",
      " [  26    4   22 1428    4]\n",
      " [   0    0    0    7 1503]]\n",
      "logistic\n",
      "portions=10logistic\n",
      "[[   0 1523    0    0    0]\n",
      " [   0 1443    0    0    0]\n",
      " [   0 1540    0    0    0]\n",
      " [   0 1484    0    0    0]\n",
      " [   0 1510    0    0    0]]\n",
      "portions=20logistic\n",
      "[[1481   32    0    0   10]\n",
      " [ 116 1326    0    0    1]\n",
      " [1495   21    0    0   24]\n",
      " [ 110 1360    0    0   14]\n",
      " [   1    3    0    0 1506]]\n",
      "portions=30logistic\n",
      "[[1489   14    0    0   20]\n",
      " [  43 1396    0    3    1]\n",
      " [1527   10    1    0    2]\n",
      " [ 253 1220    0    0   11]\n",
      " [  10    8    0    0 1492]]\n",
      "portions=40logistic\n",
      "[[1370  100   36   13    4]\n",
      " [  46 1392    4    0    1]\n",
      " [  12   56 1458   14    0]\n",
      " [  33    1   43 1388   19]\n",
      " [   0    0    0    6 1504]]\n",
      "portions=50logistic\n",
      "[[1471    0   14   30    8]\n",
      " [  85    0 1312   46    0]\n",
      " [  80    0 1049  411    0]\n",
      " [ 398    0  528  526   32]\n",
      " [  12    0    0    1 1497]]\n",
      "portions=60logistic\n",
      "[[1503    2   18    0    0]\n",
      " [ 101 1341    1    0    0]\n",
      " [ 156    0 1384    0    0]\n",
      " [ 186    2 1280    0   16]\n",
      " [   7    0    1    0 1502]]\n",
      "portions=70logistic\n",
      "[[1477   27    0   19    0]\n",
      " [  78 1363    0    2    0]\n",
      " [1521    7    0   12    0]\n",
      " [  82    1    0 1388   13]\n",
      " [   0    0    0    2 1508]]\n",
      "portions=80logistic\n",
      "[[   0   10 1475   35    3]\n",
      " [   1 1375   64    2    1]\n",
      " [   1    7 1510   22    0]\n",
      " [   0    1   38 1435   10]\n",
      " [   0    0    1    5 1504]]\n",
      "portions=90logistic\n",
      "[[1462    4   41   16    0]\n",
      " [ 130 1300   12    1    0]\n",
      " [  93    0 1431   16    0]\n",
      " [  60    1   46 1370    7]\n",
      " [   1    0    0   13 1496]]\n",
      "portions=100logistic\n",
      "[[1398    2   94   27    2]\n",
      " [  72 1365    4    2    0]\n",
      " [  96    0 1425   19    0]\n",
      " [  10    1   71 1389   13]\n",
      " [   0    0    0    4 1506]]\n",
      "tanh\n",
      "portions=10tanh\n",
      "[[1447    6   56    5    9]\n",
      " [ 301 1117   24    0    1]\n",
      " [  20   68 1439   13    0]\n",
      " [  33    3  127 1284   37]\n",
      " [   2    0    0   12 1496]]\n",
      "portions=20tanh\n",
      "[[1286   80  100   49    8]\n",
      " [   8 1390   41    1    3]\n",
      " [   6   28 1465   40    1]\n",
      " [  13    1   23 1430   17]\n",
      " [   0    0    0    3 1507]]\n",
      "portions=30tanh\n",
      "[[1461   11   21   28    2]\n",
      " [  72 1348   21    1    1]\n",
      " [  20    6 1461   53    0]\n",
      " [  41    1   23 1411    8]\n",
      " [   0    0    0   10 1500]]\n",
      "portions=40tanh\n",
      "[[1346   14  158    5    0]\n",
      " [  28 1361   53    1    0]\n",
      " [   5    1 1533    1    0]\n",
      " [  25    1  201 1252    5]\n",
      " [   0    1   11   12 1486]]\n",
      "portions=50tanh\n",
      "[[1316   23  117   63    4]\n",
      " [  40 1353   44    3    3]\n",
      " [   1    5 1452   82    0]\n",
      " [  14    3   20 1441    6]\n",
      " [   0    4    0    5 1501]]\n",
      "portions=60tanh\n",
      "[[1381   34   72   34    2]\n",
      " [  18 1354   65    4    2]\n",
      " [  10    0 1502   28    0]\n",
      " [  33    0   24 1413   14]\n",
      " [   2    0    1    1 1506]]\n",
      "portions=70tanh\n",
      "[[1214    4  195  108    2]\n",
      " [  10 1345   82    6    0]\n",
      " [   0   10 1447   83    0]\n",
      " [   5    1   16 1447   15]\n",
      " [   0    0    1    1 1508]]\n",
      "portions=80tanh\n",
      "[[1414   23   40   45    1]\n",
      " [ 110 1318   14    0    1]\n",
      " [  62    7 1411   60    0]\n",
      " [  14    0   40 1418   12]\n",
      " [   1    1    0    5 1503]]\n",
      "portions=90tanh\n",
      "[[1437    2   43   40    1]\n",
      " [  40 1371   27    3    2]\n",
      " [   5    0 1491   44    0]\n",
      " [  57    1   19 1399    8]\n",
      " [   0    1    0    3 1506]]\n",
      "portions=100tanh\n",
      "[[1476   14   16   17    0]\n",
      " [  33 1396   11    3    0]\n",
      " [  25    8 1420   87    0]\n",
      " [  78    1   13 1386    6]\n",
      " [   3    8    0    7 1492]]\n",
      "relu\n",
      "portions=10relu\n",
      "[[1467   16   24   15    1]\n",
      " [  22 1397   22    2    0]\n",
      " [  21   14 1469   36    0]\n",
      " [  34    2   26 1410   12]\n",
      " [   1    0    0   21 1488]]\n",
      "portions=20relu\n",
      "[[1465    7   12   34    5]\n",
      " [  29 1405    6    1    2]\n",
      " [  33    4 1439   64    0]\n",
      " [  19    1   17 1438    9]\n",
      " [   0    1    0    2 1507]]\n",
      "portions=30relu\n",
      "[[1440   21   28   30    4]\n",
      " [  19 1420    2    2    0]\n",
      " [  21   14 1487   17    1]\n",
      " [   8    4   28 1430   14]\n",
      " [   1    0    0   15 1494]]\n",
      "portions=40relu\n",
      "[[1469   11   13   29    1]\n",
      " [  15 1419    7    2    0]\n",
      " [  17    3 1500   20    0]\n",
      " [  22    1   16 1441    4]\n",
      " [   0    0    0    9 1501]]\n",
      "portions=50relu\n",
      "[[1451   19   11   40    2]\n",
      " [   5 1428    6    3    1]\n",
      " [  18   11 1487   24    0]\n",
      " [  13    1   15 1451    4]\n",
      " [   4    0    3    4 1499]]\n",
      "portions=60relu\n",
      "[[1449   25   13   34    2]\n",
      " [  20 1419    2    2    0]\n",
      " [  48   13 1446   24    9]\n",
      " [  18    2    8 1452    4]\n",
      " [   0    0    1   17 1492]]\n",
      "portions=70relu\n",
      "[[1483   16    6   17    1]\n",
      " [   7 1430    3    3    0]\n",
      " [  40    8 1480   12    0]\n",
      " [  28    4   16 1429    7]\n",
      " [   1    0    0    7 1502]]\n",
      "portions=80relu\n",
      "[[1468   13   12   30    0]\n",
      " [  13 1427    1    0    2]\n",
      " [  26    4 1490   20    0]\n",
      " [  11    1   18 1449    5]\n",
      " [   0    0    0    4 1506]]\n",
      "portions=90relu\n",
      "[[1469   13   16   25    0]\n",
      " [  10 1424    7    2    0]\n",
      " [  14    4 1508   14    0]\n",
      " [  10    3   19 1446    6]\n",
      " [   0    0    0    5 1505]]\n",
      "portions=100relu\n",
      "[[1477   10   19   16    1]\n",
      " [   7 1434    1    1    0]\n",
      " [  23    6 1501   10    0]\n",
      " [  26    3   18 1430    7]\n",
      " [   0    1    0    3 1506]]\n"
     ]
    }
   ],
   "source": [
    "from sklearn.metrics import balanced_accuracy_score,f1_score, accuracy_score\n",
    "from sklearn.metrics import classification_report,confusion_matrix\n",
    "\n",
    "#change the number of hidden epochs\n",
    "num_epochs = range(1,701, 50)\n",
    "\n",
    "train_acc = []\n",
    "test_acc = []\n",
    "\n",
    "active = ['identity', 'logistic', 'tanh', 'relu']\n",
    "\n",
    "portions = range(10, 101, 10)\n",
    "\n",
    "for i in active:\n",
    "    print(i)\n",
    "    ker_train_acc = []\n",
    "    ker_test_acc = []\n",
    "\n",
    "    ker_train_recall = []\n",
    "    ker_test_recall = []\n",
    "\n",
    "    \n",
    "    for count, o in enumerate(portions):\n",
    "        end = int(len(X_train)* o/100.0)\n",
    "\n",
    "        print ('portions=' + str(o) + str(i))\n",
    "        \n",
    "        hidden_layer = tuple([15]*8)\n",
    "        mlp = MLPClassifier(activation=i, alpha=0.0001, batch_size='auto', beta_1=0.9,\n",
    "           beta_2=0.999, epsilon=1e-08,\n",
    "           hidden_layer_sizes=hidden_layer, learning_rate='constant',\n",
    "           learning_rate_init=0.001, max_iter=200, momentum=0.9,\n",
    "           nesterovs_momentum=True, random_state=None,\n",
    "           shuffle=True, solver='adam', tol=1e-4, validation_fraction=0.1, warm_start=False)\n",
    "        mlp.fit(X_train[:end],y_train[:end])\n",
    "        prediction_test = mlp.predict(X_test)\n",
    "        prediction_train = mlp.predict(X_train[:end])\n",
    "        \n",
    "        ker_train_acc.append(accuracy_score(y_train[:end], prediction_train))\n",
    "        ker_test_acc.append(accuracy_score(y_test, prediction_test))\n",
    "\n",
    "        print(confusion_matrix(y_test,  prediction_test))\n",
    "\n",
    "\n",
    "    train_acc.append(ker_train_acc)\n",
    "    test_acc.append(ker_test_acc)\n",
    "\n",
    "  \n",
    "    \n",
    "    "
   ]
  },
  {
   "cell_type": "code",
   "execution_count": 26,
   "metadata": {},
   "outputs": [
    {
     "data": {
      "image/png": "[encoded data removed]",
      "text/plain": [
       "<Figure size 432x288 with 1 Axes>"
      ]
     },
     "metadata": {
      "needs_background": "light"
     },
     "output_type": "display_data"
    }
   ],
   "source": [
    "import matplotlib.pyplot as plt\n",
    "plt.figure()\n",
    "plt.title('FM Neural Net: Accuracy vs. No of Examples')\n",
    "#plt.ylim((0.9,1))\n",
    "ps=[int(len(X_train)* p/100.0) for p in portions]\n",
    "\n",
    "ps = [int(len(X_train)* p/100.0) for p in portions]\n",
    "\n",
    "plt.plot(ps, list(train_acc[0]), label='train accuracy identity', linestyle='-')\n",
    "\n",
    "plt.plot(ps, list(test_acc[0]), color='red',  label='test accuracy identity',linestyle='-')\n",
    "\n",
    "plt.plot(ps, list(train_acc[1]), 'x', color='indigo', label='train accuracy logistic', linestyle=':')\n",
    "plt.plot(ps, list(test_acc[1]),'x',color='orange',  label='test accuracy logistic',linestyle=':')\n",
    "\n",
    "\n",
    "\n",
    "\n",
    "plt.xlabel(\"Number of Examples\")\n",
    "plt.ylabel(\"Score\")\n",
    "\n",
    "plt.savefig('plots/depth_precision_recall_breastCancer')\n",
    "plt.legend()\n",
    "plt.show()"
   ]
  },
  {
   "cell_type": "code",
   "execution_count": 28,
   "metadata": {},
   "outputs": [
    {
     "data": {
      "image/png": "[encoded data removed]",
      "text/plain": [
       "<Figure size 432x288 with 1 Axes>"
      ]
     },
     "metadata": {
      "needs_background": "light"
     },
     "output_type": "display_data"
    }
   ],
   "source": [
    "plt.figure()\n",
    "plt.title('FM Neural Net: Accuracy vs. No of Examples')\n",
    "\n",
    "plt.plot(ps, list(train_acc[2]), 'o', color='purple', label='train accuracy tanh', linestyle='-')\n",
    "plt.plot(ps, list(test_acc[2]),'o',color='magenta',  label='test accuracy tanh',linestyle='-')\n",
    "plt.xlabel(\"Number of Examples\")\n",
    "plt.ylabel(\"Score\")\n",
    "\n",
    "plt.plot(ps, list(train_acc[3]), 'x', color='green', label='train accuracy relu', linestyle='-')\n",
    "plt.plot(ps, list(test_acc[3]),'x',color='cyan',  label='test accuracy relu',linestyle='-')\n",
    "\n",
    "plt.legend()\n",
    "plt.show()\n"
   ]
  },
  {
   "cell_type": "code",
   "execution_count": 30,
   "metadata": {},
   "outputs": [
    {
     "data": {
      "text/plain": [
       "[0.9514666666666667,\n",
       " 0.966,\n",
       " 0.9629333333333333,\n",
       " 0.9688,\n",
       " 0.9732,\n",
       " 0.9674666666666667,\n",
       " 0.9749333333333333,\n",
       " 0.9730666666666666,\n",
       " 0.9677333333333333,\n",
       " 0.9724]"
      ]
     },
     "execution_count": 30,
     "metadata": {},
     "output_type": "execute_result"
    }
   ],
   "source": [
    "test_acc[0]"
   ]
  },
  {
   "cell_type": "code",
   "execution_count": 31,
   "metadata": {},
   "outputs": [
    {
     "data": {
      "text/plain": [
       "[0.1924,\n",
       " 0.5750666666666666,\n",
       " 0.5837333333333333,\n",
       " 0.9482666666666667,\n",
       " 0.6057333333333333,\n",
       " 0.764,\n",
       " 0.7648,\n",
       " 0.7765333333333333,\n",
       " 0.9412,\n",
       " 0.9444]"
      ]
     },
     "execution_count": 31,
     "metadata": {},
     "output_type": "execute_result"
    }
   ],
   "source": [
    "test_acc[1]"
   ]
  },
  {
   "cell_type": "code",
   "execution_count": 32,
   "metadata": {},
   "outputs": [
    {
     "data": {
      "text/plain": [
       "[0.9044,\n",
       " 0.9437333333333333,\n",
       " 0.9574666666666667,\n",
       " 0.9304,\n",
       " 0.9417333333333333,\n",
       " 0.9541333333333334,\n",
       " 0.9281333333333334,\n",
       " 0.9418666666666666,\n",
       " 0.9605333333333334,\n",
       " 0.956]"
      ]
     },
     "execution_count": 32,
     "metadata": {},
     "output_type": "execute_result"
    }
   ],
   "source": [
    "test_acc[2]"
   ]
  },
  {
   "cell_type": "code",
   "execution_count": 34,
   "metadata": {},
   "outputs": [
    {
     "data": {
      "text/plain": [
       "[0.9641333333333333,\n",
       " 0.9672,\n",
       " 0.9694666666666667,\n",
       " 0.9773333333333334,\n",
       " 0.9754666666666667,\n",
       " 0.9677333333333333,\n",
       " 0.9765333333333334,\n",
       " 0.9786666666666667,\n",
       " 0.9802666666666666,\n",
       " 0.9797333333333333]"
      ]
     },
     "execution_count": 34,
     "metadata": {},
     "output_type": "execute_result"
    }
   ],
   "source": [
    "test_acc[3]"
   ]
  },
  {
   "cell_type": "code",
   "execution_count": 38,
   "metadata": {},
   "outputs": [
    {
     "ename": "NameError",
     "evalue": "name 'cmap' is not defined",
     "output_type": "error",
     "traceback": [
      "\u001b[0;31m---------------------------------------------------------------------------\u001b[0m",
      "\u001b[0;31mNameError\u001b[0m                                 Traceback (most recent call last)",
      "\u001b[0;32m<ipython-input-38-ca67a0ddbd3b>\u001b[0m in \u001b[0;36m<module>\u001b[0;34m\u001b[0m\n\u001b[1;32m     11\u001b[0m \u001b[0mcm\u001b[0m\u001b[0;34m=\u001b[0m \u001b[0mconfusion_matrix\u001b[0m\u001b[0;34m(\u001b[0m\u001b[0my_test\u001b[0m\u001b[0;34m,\u001b[0m  \u001b[0mprediction_test\u001b[0m\u001b[0;34m)\u001b[0m\u001b[0;34m\u001b[0m\u001b[0;34m\u001b[0m\u001b[0m\n\u001b[1;32m     12\u001b[0m \u001b[0;34m\u001b[0m\u001b[0m\n\u001b[0;32m---> 13\u001b[0;31m \u001b[0mplt\u001b[0m\u001b[0;34m.\u001b[0m\u001b[0mimshow\u001b[0m\u001b[0;34m(\u001b[0m\u001b[0mcm\u001b[0m\u001b[0;34m,\u001b[0m \u001b[0minterpolation\u001b[0m\u001b[0;34m=\u001b[0m\u001b[0;34m'nearest'\u001b[0m\u001b[0;34m,\u001b[0m \u001b[0mcmap\u001b[0m\u001b[0;34m=\u001b[0m\u001b[0mcmap\u001b[0m\u001b[0;34m)\u001b[0m\u001b[0;34m\u001b[0m\u001b[0;34m\u001b[0m\u001b[0m\n\u001b[0m\u001b[1;32m     14\u001b[0m \u001b[0mplt\u001b[0m\u001b[0;34m.\u001b[0m\u001b[0mtitle\u001b[0m\u001b[0;34m(\u001b[0m\u001b[0mtitle\u001b[0m\u001b[0;34m)\u001b[0m\u001b[0;34m\u001b[0m\u001b[0;34m\u001b[0m\u001b[0m\n\u001b[1;32m     15\u001b[0m \u001b[0mplt\u001b[0m\u001b[0;34m.\u001b[0m\u001b[0mcolorbar\u001b[0m\u001b[0;34m(\u001b[0m\u001b[0;34m)\u001b[0m\u001b[0;34m\u001b[0m\u001b[0;34m\u001b[0m\u001b[0m\n",
      "\u001b[0;31mNameError\u001b[0m: name 'cmap' is not defined"
     ]
    }
   ],
   "source": [
    "\n",
    "mlp = MLPClassifier(activation='relu', alpha=0.0001, batch_size='auto', beta_1=0.9,\n",
    "           beta_2=0.999, epsilon=1e-08,\n",
    "           hidden_layer_sizes=hidden_layer, learning_rate='constant',\n",
    "           learning_rate_init=0.001, max_iter=200, momentum=0.9,\n",
    "           nesterovs_momentum=True, random_state=None,\n",
    "           shuffle=True, solver='adam', tol=1e-4, validation_fraction=0.1, warm_start=False)\n",
    "mlp.fit(X_train,y_train)\n",
    "prediction_test = mlp.predict(X_test)\n",
    "prediction_train = mlp.predict(X_train)\n",
    "cm= confusion_matrix(y_test,  prediction_test)\n"
   ]
  },
  {
   "cell_type": "code",
   "execution_count": 48,
   "metadata": {},
   "outputs": [
    {
     "data": {
      "image/png": "[encoded data removed]",
      "text/plain": [
       "<Figure size 432x288 with 2 Axes>"
      ]
     },
     "metadata": {
      "needs_background": "light"
     },
     "output_type": "display_data"
    }
   ],
   "source": [
    "import itertools\n",
    "\n",
    "cmap=plt.cm.Blues\n",
    "plt.imshow(cm, interpolation='nearest', cmap=cmap)\n",
    "plt.title(\"Fashion Confusion Matrix\")\n",
    "plt.colorbar()\n",
    "classes = [ 't-shirts', 'trousers', 'coat', 'bag', 'ankle boot']\n",
    "tick_marks = np.arange(5)\n",
    "plt.xticks(tick_marks, classes, rotation=45)\n",
    "plt.yticks(tick_marks, classes)\n",
    "normalize=False\n",
    "fmt = '.2f' if normalize else 'd'\n",
    "thresh = cm.max() / 2.\n",
    "for i, j in itertools.product(range(cm.shape[0]), range(cm.shape[1])):\n",
    "    plt.text(j, i, format(cm[i, j], fmt),\n",
    "             horizontalalignment=\"center\",\n",
    "             color=\"white\" if cm[i, j] > thresh else \"black\")\n",
    "\n",
    "plt.ylabel('True label')\n",
    "plt.xlabel('Predicted label')\n",
    "plt.tight_layout()"
   ]
  },
  {
   "cell_type": "code",
   "execution_count": null,
   "metadata": {},
   "outputs": [],
   "source": []
  }
 ],
 "metadata": {
  "kernelspec": {
   "display_name": "Python 3",
   "language": "python",
   "name": "python3"
  },
  "language_info": {
   "codemirror_mode": {
    "name": "ipython",
    "version": 3
   },
   "file_extension": ".py",
   "mimetype": "text/x-python",
   "name": "python",
   "nbconvert_exporter": "python",
   "pygments_lexer": "ipython3",
   "version": "3.7.2"
  }
 },
 "nbformat": 4,
 "nbformat_minor": 2
}
