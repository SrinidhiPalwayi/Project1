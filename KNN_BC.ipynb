{
 "cells": [
  {
   "cell_type": "code",
   "execution_count": 10,
   "metadata": {},
   "outputs": [
    {
     "name": "stdout",
     "output_type": "stream",
     "text": [
      "kNN: learning a kNN classifier with k = 1\n",
      "[[89  5]\n",
      " [ 2 47]]\n",
      "kNN: learning a kNN classifier with k = 2\n",
      "[[89  5]\n",
      " [ 2 47]]\n",
      "kNN: learning a kNN classifier with k = 3\n",
      "[[92  2]\n",
      " [ 2 47]]\n",
      "kNN: learning a kNN classifier with k = 4\n",
      "[[91  3]\n",
      " [ 1 48]]\n",
      "kNN: learning a kNN classifier with k = 5\n",
      "[[92  2]\n",
      " [ 1 48]]\n",
      "kNN: learning a kNN classifier with k = 6\n",
      "[[93  1]\n",
      " [ 2 47]]\n",
      "kNN: learning a kNN classifier with k = 7\n",
      "[[93  1]\n",
      " [ 2 47]]\n",
      "kNN: learning a kNN classifier with k = 8\n",
      "[[93  1]\n",
      " [ 2 47]]\n",
      "kNN: learning a kNN classifier with k = 9\n",
      "[[93  1]\n",
      " [ 2 47]]\n",
      "kNN: learning a kNN classifier with k = 10\n",
      "[[93  1]\n",
      " [ 2 47]]\n",
      "kNN: learning a kNN classifier with k = 11\n",
      "[[93  1]\n",
      " [ 1 48]]\n",
      "kNN: learning a kNN classifier with k = 12\n",
      "[[93  1]\n",
      " [ 1 48]]\n",
      "kNN: learning a kNN classifier with k = 13\n",
      "[[93  1]\n",
      " [ 1 48]]\n",
      "kNN: learning a kNN classifier with k = 14\n",
      "[[93  1]\n",
      " [ 2 47]]\n",
      "kNN: learning a kNN classifier with k = 15\n",
      "[[93  1]\n",
      " [ 3 46]]\n",
      "kNN: learning a kNN classifier with k = 16\n",
      "[[93  1]\n",
      " [ 2 47]]\n",
      "kNN: learning a kNN classifier with k = 17\n",
      "[[93  1]\n",
      " [ 4 45]]\n",
      "kNN: learning a kNN classifier with k = 18\n",
      "[[93  1]\n",
      " [ 3 46]]\n",
      "kNN: learning a kNN classifier with k = 19\n",
      "[[93  1]\n",
      " [ 4 45]]\n",
      "kNN: learning a kNN classifier with k = 20\n",
      "[[93  1]\n",
      " [ 4 45]]\n"
     ]
    }
   ],
   "source": [
    "import pandas as pd\n",
    "import matplotlib.pyplot as plt\n",
    "from sklearn.metrics import mean_squared_error\n",
    "from sklearn.model_selection import train_test_split\n",
    "from sklearn.preprocessing import StandardScaler\n",
    "from sklearn.metrics import classification_report,confusion_matrix\n",
    "from sklearn.neighbors import KNeighborsClassifier\n",
    "from sklearn.metrics import balanced_accuracy_score,f1_score, accuracy_score, precision_score, recall_score\n",
    "import numpy as np\n",
    "\n",
    "df = pd.read_csv('data/breast_cancer.csv', delimiter=',', quotechar='\"')\n",
    "features = df.loc[:,\"radius_mean\":\"fractal_dimension_worst\"]\n",
    "labels = df[\"diagnosis\"]\n",
    "#1 for malignant 0 for benign\n",
    "binary_labels = [1 if x == 'M' else 0 for x in labels]\n",
    "\n",
    "\n",
    "X_train, X_test, y_train, y_test = train_test_split(features, binary_labels, test_size=0.25)\n",
    "\n",
    "scaler = StandardScaler()\n",
    "scaler.fit(X_train)\n",
    "X_train = scaler.transform(X_train)\n",
    "X_test = scaler.transform(X_test)\n",
    "\n",
    "#kNN\n",
    "ks = range(1, 21)\n",
    "train_precision = []\n",
    "test_precision = []\n",
    "\n",
    "train_recall = []\n",
    "test_recall = []\n",
    "#params ={V:2}\n",
    "for i, k in enumerate(ks):\n",
    "    print ('kNN: learning a kNN classifier with k = ' + str(k))\n",
    "    clf = KNeighborsClassifier(n_neighbors = k,weights='distance', metric=\"euclidean\")\n",
    "    clf.fit(X_train, y_train)\n",
    "    \n",
    "    train_precision.append(precision_score(y_train, clf.predict(X_train)))\n",
    "    test_precision.append(precision_score(y_test, clf.predict(X_test)))\n",
    "    \n",
    "    print(confusion_matrix(y_test, clf.predict(X_test)))\n",
    "    \n",
    "    train_recall.append(recall_score(y_train, clf.predict(X_train)))\n",
    "    test_recall.append(recall_score(y_test, clf.predict(X_test)))"
   ]
  },
  {
   "cell_type": "code",
   "execution_count": 11,
   "metadata": {
    "scrolled": true
   },
   "outputs": [
    {
     "data": {
      "image/png": "[encoded data removed]",
      "text/plain": [
       "<Figure size 432x288 with 1 Axes>"
      ]
     },
     "metadata": {
      "needs_background": "light"
     },
     "output_type": "display_data"
    }
   ],
   "source": [
    "import matplotlib.pyplot as plt\n",
    "plt.figure()\n",
    "plt.title('Breast Cancer KNN: Precision and Recall vs K when Weighted by Distance')\n",
    "\n",
    "#plt.ylim((0,1))\n",
    "plt.plot(ks, list(train_precision), 'o-', color='blue', label='train precision')\n",
    "plt.plot(ks, list(train_recall), 'x', color='green', label='train recall', linestyle=':')\n",
    "\n",
    "plt.plot(ks, list(test_precision), 'o-', color='red', label='test precision')\n",
    "\n",
    "\n",
    "plt.plot(ks, list(test_recall), 'x',color='orange', label='test recall', linestyle=':')\n",
    "\n",
    "#plt.errorbar(depth, list(cross_val_acc_avg),yerr=list(cross_val_acc_std), fmt='r', label='cross validation error')\n",
    "plt.savefig('plots/precision_recall_knn_breastCancer')\n",
    "plt.legend()\n",
    "plt.show()\n",
    "#ideal number of layers is 2 layer"
   ]
  },
  {
   "cell_type": "code",
   "execution_count": 4,
   "metadata": {},
   "outputs": [
    {
     "name": "stdout",
     "output_type": "stream",
     "text": [
      "[[97  0]\n",
      " [ 3 43]]\n",
      "[[91  2]\n",
      " [ 3 47]]\n",
      "[[93  1]\n",
      " [ 3 46]]\n",
      "[[89  1]\n",
      " [ 3 50]]\n",
      "[[83  0]\n",
      " [ 4 56]]\n",
      "[[90  0]\n",
      " [ 8 45]]\n",
      "[[98  2]\n",
      " [ 4 39]]\n",
      "[[87  0]\n",
      " [ 4 52]]\n",
      "[[91  1]\n",
      " [ 4 47]]\n",
      "[[91  0]\n",
      " [ 4 48]]\n",
      "[[86  0]\n",
      " [ 3 54]]\n",
      "[[91  0]\n",
      " [ 4 48]]\n",
      "[[83  1]\n",
      " [ 9 50]]\n",
      "[[88  1]\n",
      " [ 3 51]]\n",
      "[[91  1]\n",
      " [ 5 46]]\n",
      "[[88  1]\n",
      " [ 1 53]]\n",
      "[[89  1]\n",
      " [ 6 47]]\n",
      "[[84  1]\n",
      " [ 6 52]]\n",
      "[[87  3]\n",
      " [ 6 47]]\n",
      "[[87  0]\n",
      " [ 5 51]]\n",
      "[[90  0]\n",
      " [ 5 48]]\n",
      "[[85  0]\n",
      " [ 4 54]]\n",
      "[[88  2]\n",
      " [ 4 49]]\n",
      "[[86  1]\n",
      " [ 7 49]]\n",
      "[[93  0]\n",
      " [ 5 45]]\n",
      "[[89  1]\n",
      " [ 6 47]]\n",
      "[[88  0]\n",
      " [ 2 53]]\n",
      "[[84  0]\n",
      " [ 5 54]]\n",
      "[[95  0]\n",
      " [ 2 46]]\n",
      "[[87  2]\n",
      " [ 6 48]]\n",
      "[[87  0]\n",
      " [ 3 53]]\n",
      "[[86  0]\n",
      " [ 4 53]]\n",
      "[[85  1]\n",
      " [ 6 51]]\n",
      "[[89  0]\n",
      " [ 2 52]]\n",
      "[[89  0]\n",
      " [ 3 51]]\n",
      "[[81  0]\n",
      " [ 5 57]]\n",
      "[[104   0]\n",
      " [  2  37]]\n",
      "[[98  0]\n",
      " [ 0 45]]\n",
      "[[84  1]\n",
      " [ 4 54]]\n",
      "[[104   1]\n",
      " [  4  34]]\n",
      "[[97  1]\n",
      " [ 4 41]]\n",
      "[[85  0]\n",
      " [ 8 50]]\n",
      "[[84  1]\n",
      " [ 4 54]]\n",
      "[[87  1]\n",
      " [ 4 51]]\n",
      "[[83  0]\n",
      " [ 3 57]]\n",
      "[[91  0]\n",
      " [ 4 48]]\n",
      "[[95  2]\n",
      " [ 5 41]]\n",
      "[[89  1]\n",
      " [ 2 51]]\n",
      "[[92  1]\n",
      " [ 0 50]]\n",
      "[[88  1]\n",
      " [ 5 49]]\n",
      "[[88  0]\n",
      " [ 6 49]]\n",
      "[[97  1]\n",
      " [ 4 41]]\n",
      "[[80  2]\n",
      " [ 7 54]]\n",
      "[[88  0]\n",
      " [ 6 49]]\n",
      "[[96  0]\n",
      " [ 2 45]]\n"
     ]
    }
   ],
   "source": [
    "#std as increase value of k\n",
    "import pandas as pd\n",
    "import matplotlib.pyplot as plt\n",
    "from sklearn.metrics import mean_squared_error\n",
    "from sklearn.model_selection import train_test_split\n",
    "from sklearn.preprocessing import StandardScaler\n",
    "from sklearn.metrics import classification_report,confusion_matrix\n",
    "from sklearn.neighbors import KNeighborsClassifier\n",
    "from sklearn.metrics import balanced_accuracy_score,f1_score, accuracy_score, precision_score, recall_score\n",
    "import numpy as np\n",
    "\n",
    "df = pd.read_csv('data/breast_cancer.csv', delimiter=',', quotechar='\"')\n",
    "features = df.loc[:,\"radius_mean\":\"fractal_dimension_worst\"]\n",
    "labels = df[\"diagnosis\"]\n",
    "#1 for malignant 0 for benign\n",
    "binary_labels = [1 if x == 'M' else 0 for x in labels]\n",
    "\n",
    "\n",
    "\n",
    "#kNN\n",
    "ks = range(1, 11)\n",
    "avg_train_precision = []\n",
    "avg_test_precision = []\n",
    "\n",
    "std_train_precision = []\n",
    "std_test_precision =[]\n",
    "\n",
    "avg_train_recall = []\n",
    "avg_test_recall = []\n",
    "\n",
    "std_train_recall = []\n",
    "std_test_recall = []\n",
    "#params ={V:2}\n",
    "for i, k in enumerate(ks):\n",
    "\n",
    "    \n",
    "    train_precision = []\n",
    "    test_precision = []\n",
    "    train_recall = []\n",
    "    test_recall = []\n",
    "\n",
    "    for i in range(k):\n",
    "        X_train, X_test, y_train, y_test = train_test_split(features, binary_labels, test_size=0.25)\n",
    "\n",
    "        scaler = StandardScaler()\n",
    "        scaler.fit(X_train)\n",
    "        X_train = scaler.transform(X_train)\n",
    "        X_test = scaler.transform(X_test)\n",
    "        clf = KNeighborsClassifier(n_neighbors = 3,weights='distance', metric=\"euclidean\")\n",
    "        clf.fit(X_train, y_train)\n",
    "    \n",
    "        train_precision.append(precision_score(y_train, clf.predict(X_train)))\n",
    "        test_precision.append(precision_score(y_test, clf.predict(X_test)))\n",
    "    \n",
    "        print(confusion_matrix(y_test, clf.predict(X_test)))\n",
    "    \n",
    "        train_recall.append(recall_score(y_train, clf.predict(X_train)))\n",
    "        test_recall.append(recall_score(y_test, clf.predict(X_test)))\n",
    "   \n",
    "    "
   ]
  },
  {
   "cell_type": "code",
   "execution_count": 7,
   "metadata": {},
   "outputs": [
    {
     "name": "stdout",
     "output_type": "stream",
     "text": [
      "42 10\n",
      "[[89  6]\n",
      " [ 4 44]]\n",
      "85 20\n",
      "[[87  8]\n",
      " [ 4 44]]\n",
      "127 30\n",
      "[[90  5]\n",
      " [ 4 44]]\n",
      "170 40\n",
      "[[91  4]\n",
      " [ 5 43]]\n",
      "213 50\n",
      "[[91  4]\n",
      " [ 4 44]]\n",
      "255 60\n",
      "[[92  3]\n",
      " [ 3 45]]\n",
      "298 70\n",
      "[[92  3]\n",
      " [ 3 45]]\n",
      "340 80\n",
      "[[92  3]\n",
      " [ 3 45]]\n",
      "383 90\n",
      "[[92  3]\n",
      " [ 3 45]]\n",
      "426 100\n",
      "[[93  2]\n",
      " [ 3 45]]\n"
     ]
    }
   ],
   "source": [
    "#training set size\n",
    "import pandas as pd\n",
    "import matplotlib.pyplot as plt\n",
    "from sklearn.metrics import mean_squared_error\n",
    "from sklearn.model_selection import train_test_split\n",
    "from sklearn.preprocessing import StandardScaler\n",
    "from sklearn.metrics import classification_report,confusion_matrix\n",
    "from sklearn.neighbors import KNeighborsClassifier\n",
    "from sklearn.metrics import balanced_accuracy_score,f1_score, accuracy_score, precision_score, recall_score\n",
    "import numpy as np\n",
    "\n",
    "df = pd.read_csv('data/breast_cancer.csv', delimiter=',', quotechar='\"')\n",
    "features = df.loc[:,\"radius_mean\":\"fractal_dimension_worst\"]\n",
    "labels = df[\"diagnosis\"]\n",
    "#1 for malignant 0 for benign\n",
    "binary_labels = [1 if x == 'M' else 0 for x in labels]\n",
    "\n",
    "X_train, X_test, y_train, y_test = train_test_split(features, binary_labels, test_size=0.25)\n",
    "\n",
    "\n",
    "#kNN\n",
    "portions = range(10, 101, 10)\n",
    "train_precision = []\n",
    "test_precision = []\n",
    "\n",
    "std_train_precision = []\n",
    "std_test_precision =[]\n",
    "\n",
    "train_recall = []\n",
    "test_recall = []\n",
    "\n",
    "std_train_recall = []\n",
    "std_test_recall = []\n",
    "#params ={V:2}\n",
    "for i, k in enumerate(portions):\n",
    "    end = int(len(X_train)* k/100.0)\n",
    "    print(end, k )\n",
    "    \n",
    "    scaler = StandardScaler()\n",
    "    scaler.fit(X_train[:end])\n",
    "    X_train_temp = scaler.transform(X_train[:end])\n",
    "    X_test_temp = scaler.transform(X_test)\n",
    "    clf = KNeighborsClassifier(n_neighbors = 3,weights='uniform', metric=\"euclidean\")\n",
    "    clf.fit(X_train_temp[:end], y_train[:end])\n",
    "\n",
    "    train_precision.append(precision_score(y_train[:end], clf.predict(X_train_temp[:end])))\n",
    "    test_precision.append(precision_score(y_test, clf.predict(X_test_temp)))\n",
    "\n",
    "    print(confusion_matrix(y_test, clf.predict(X_test_temp)))\n",
    "    \n",
    "    train_recall.append(recall_score(y_train[:end], clf.predict(X_train_temp[:end])))\n",
    "    test_recall.append(recall_score(y_test, clf.predict(X_test_temp)))\n",
    "    \n",
    "    "
   ]
  },
  {
   "cell_type": "code",
   "execution_count": 10,
   "metadata": {},
   "outputs": [
    {
     "data": {
      "image/png": "[encoded data removed]",
      "text/plain": [
       "<Figure size 432x288 with 1 Axes>"
      ]
     },
     "metadata": {
      "needs_background": "light"
     },
     "output_type": "display_data"
    }
   ],
   "source": [
    "import matplotlib.pyplot as plt\n",
    "plt.figure()\n",
    "plt.title('Breast Cancer KNN: Precision and Recall vs Training Size')\n",
    "#plt.ylim((0,1))\n",
    "ps = [int(len(X_train)* p/100.0) for p in portions]\n",
    "plt.plot(ps, list(train_recall), 'x', color='green', label='train recall', linestyle=':')\n",
    "plt.plot(ps, list(train_precision), 'o-', color='blue', label='test precision')\n",
    "\n",
    "plt.plot(ps, list(test_recall),'x',color='orange',  label='test recall',linestyle=':')\n",
    "plt.plot(ps, list(test_precision),'o-',  color='red',  label='test precision')\n",
    "\n",
    "\n",
    "#plt.plot(ks, list(test_recall), 'x',color='orange', label='test recall', linestyle=':')\n",
    "\n",
    "plt.xlabel(\"Number of training examples\")\n",
    "plt.ylabel(\"Score\")\n",
    "#plt.errorbar(depth, list(cross_val_acc_avg),yerr=list(cross_val_acc_std), fmt='r', label='cross validation error')\n",
    "plt.savefig('training_size_bc_knn')\n",
    "plt.legend()\n",
    "plt.show()"
   ]
  },
  {
   "cell_type": "code",
   "execution_count": 3,
   "metadata": {},
   "outputs": [
    {
     "data": {
      "text/plain": [
       "[0.7884615384615384,\n",
       " 0.8269230769230769,\n",
       " 0.8461538461538461,\n",
       " 0.8461538461538461,\n",
       " 0.8653846153846154,\n",
       " 0.8846153846153846,\n",
       " 0.8846153846153846,\n",
       " 0.8846153846153846,\n",
       " 0.8846153846153846,\n",
       " 0.8846153846153846]"
      ]
     },
     "execution_count": 3,
     "metadata": {},
     "output_type": "execute_result"
    }
   ],
   "source": [
    "test_recall"
   ]
  },
  {
   "cell_type": "code",
   "execution_count": 12,
   "metadata": {},
   "outputs": [
    {
     "data": {
      "text/plain": [
       "[0.0, 0.0, 0.0, 0.0, 0.0, 0.0, 0.0, 0.0, 0.0, 0.0]"
      ]
     },
     "execution_count": 12,
     "metadata": {},
     "output_type": "execute_result"
    }
   ],
   "source": [
    "std_train_precision"
   ]
  },
  {
   "cell_type": "code",
   "execution_count": 3,
   "metadata": {},
   "outputs": [
    {
     "data": {
      "text/plain": [
       "[0.9038461538461539,\n",
       " 0.8846153846153846,\n",
       " 0.9230769230769231,\n",
       " 0.9230769230769231,\n",
       " 0.9230769230769231,\n",
       " 0.9038461538461539,\n",
       " 0.9038461538461539,\n",
       " 0.9038461538461539,\n",
       " 0.9230769230769231,\n",
       " 0.9230769230769231,\n",
       " 0.9230769230769231,\n",
       " 0.9230769230769231,\n",
       " 0.9230769230769231,\n",
       " 0.9038461538461539,\n",
       " 0.9038461538461539,\n",
       " 0.9038461538461539,\n",
       " 0.9038461538461539,\n",
       " 0.8846153846153846,\n",
       " 0.8846153846153846,\n",
       " 0.8846153846153846]"
      ]
     },
     "execution_count": 3,
     "metadata": {},
     "output_type": "execute_result"
    }
   ],
   "source": [
    "test_recall"
   ]
  },
  {
   "cell_type": "code",
   "execution_count": null,
   "metadata": {},
   "outputs": [],
   "source": [
    "uniform =test_recall"
   ]
  },
  {
   "cell_type": "code",
   "execution_count": null,
   "metadata": {},
   "outputs": [],
   "source": [
    "uniform"
   ]
  },
  {
   "cell_type": "code",
   "execution_count": null,
   "metadata": {},
   "outputs": [],
   "source": [
    "test_recall"
   ]
  },
  {
   "cell_type": "code",
   "execution_count": null,
   "metadata": {},
   "outputs": [],
   "source": [
    "import operator"
   ]
  },
  {
   "cell_type": "code",
   "execution_count": null,
   "metadata": {},
   "outputs": [],
   "source": [
    "list(map(operator.sub, uniform, test_recall))"
   ]
  },
  {
   "cell_type": "code",
   "execution_count": null,
   "metadata": {},
   "outputs": [],
   "source": [
    "list()"
   ]
  }
 ],
 "metadata": {
  "kernelspec": {
   "display_name": "Python 3",
   "language": "python",
   "name": "python3"
  },
  "language_info": {
   "codemirror_mode": {
    "name": "ipython",
    "version": 3
   },
   "file_extension": ".py",
   "mimetype": "text/x-python",
   "name": "python",
   "nbconvert_exporter": "python",
   "pygments_lexer": "ipython3",
   "version": "3.7.2"
  }
 },
 "nbformat": 4,
 "nbformat_minor": 2
}
